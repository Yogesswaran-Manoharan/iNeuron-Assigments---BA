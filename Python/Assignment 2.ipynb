{
 "cells": [
  {
   "cell_type": "markdown",
   "id": "eb12c15e",
   "metadata": {},
   "source": [
    "# Assignment 2"
   ]
  },
  {
   "cell_type": "code",
   "execution_count": 1,
   "id": "bdd930a8",
   "metadata": {},
   "outputs": [
    {
     "name": "stdout",
     "output_type": "stream",
     "text": [
      "Enter n: 8\n",
      "8th Fibonacci number is  13\n"
     ]
    }
   ],
   "source": [
    "## Q1 : Python Program for n-th Fibonacci number\n",
    "\n",
    "#recursive approach\n",
    "def fib_num(n):\n",
    "   if n<=0:\n",
    "      print(\"Fibonacci can't be computed\")\n",
    "   # First Fibonacci number\n",
    "   elif n==1:\n",
    "      return 0\n",
    "   # Second Fibonacci number\n",
    "   elif n==2:\n",
    "      return 1\n",
    "   else:\n",
    "      return fib_num(n-1)+fib_num(n-2)\n",
    "\n",
    "#input\n",
    "n=int(input(\"Enter n: \"))\n",
    "print(\"{}th Fibonacci number is \".format(n),fib_num(n))"
   ]
  },
  {
   "cell_type": "code",
   "execution_count": 2,
   "id": "580909e5",
   "metadata": {},
   "outputs": [
    {
     "name": "stdout",
     "output_type": "stream",
     "text": [
      "Enter a number:15\n",
      "15 is not a fibonacci number.\n"
     ]
    }
   ],
   "source": [
    "## Q2 : Python Program for How to check if a given number is Fibonacci number\n",
    "\n",
    "num = int(input(\"Enter a number:\"))\n",
    "\n",
    "a = 0\n",
    "b = 1\n",
    "while b<num:\n",
    "    c = a+b\n",
    "    a = b\n",
    "    b = c\n",
    "if b==num or a==num:\n",
    "    print(f\"{num} is a fibonacci number.\")\n",
    "if b > num:\n",
    "    print(f\"{num} is not a fibonacci number.\")"
   ]
  },
  {
   "cell_type": "code",
   "execution_count": 3,
   "id": "87b2115f",
   "metadata": {},
   "outputs": [
    {
     "name": "stdout",
     "output_type": "stream",
     "text": [
      "Enter a multiple number:6\n",
      "Enter a number:4\n",
      "Position of n'th multiple of k in Fibonacci Series is:  36\n"
     ]
    }
   ],
   "source": [
    "## Q3 : Python Program for n\\’th multiple of a number in Fibonacci Series\n",
    "\n",
    "n = int(input(\"Enter a multiple number:\"))\n",
    "k = int(input(\"Enter a number:\"))\n",
    "def find(k,n):\n",
    "    a = 0\n",
    "    b = 1\n",
    "    i = 2\n",
    "    \n",
    "    while i != 0:\n",
    "        c = a+b\n",
    "        a = b\n",
    "        b = c\n",
    "        if b%k == 0:\n",
    "            return n*i\n",
    "        i=i+1\n",
    "    return\n",
    "print(\"Position of n\\'th multiple of k in\"\" Fibonacci Series is: \", find(k,n));"
   ]
  },
  {
   "cell_type": "code",
   "execution_count": 4,
   "id": "e2eb00fd",
   "metadata": {},
   "outputs": [
    {
     "name": "stdout",
     "output_type": "stream",
     "text": [
      "Enter a character: A\n",
      "The ASCII value of  A  is  65\n"
     ]
    }
   ],
   "source": [
    "## Q4: Program to print ASCII Value of a character\n",
    "\n",
    "c = input(\"Enter a character: \")\n",
    "\n",
    "print(\"The ASCII value of \",c,\" is \",ord(c))"
   ]
  },
  {
   "cell_type": "code",
   "execution_count": 5,
   "id": "e21fa26c",
   "metadata": {},
   "outputs": [
    {
     "name": "stdout",
     "output_type": "stream",
     "text": [
      "Enter a natural numner: 7\n",
      "The sum of square of first  7  natural number is  140\n"
     ]
    }
   ],
   "source": [
    "## Q5: Python Program for Sum of squares of first n natural numbers\n",
    "\n",
    "n = int(input(\"Enter a natural numner: \"))\n",
    "sum = 0\n",
    "for i in range(1,n+1):\n",
    "    sum = sum + i**2\n",
    "print(\"The sum of square of first \",n,\" natural number is \",sum)"
   ]
  },
  {
   "cell_type": "code",
   "execution_count": 6,
   "id": "9a9b9505",
   "metadata": {},
   "outputs": [
    {
     "name": "stdout",
     "output_type": "stream",
     "text": [
      "Enter a natural numner: 12\n",
      "The sum of square of first  12  natural number is  6084\n"
     ]
    }
   ],
   "source": [
    "## Q6: Python Program for cube sum of first n natural numbers\n",
    "\n",
    "n = int(input(\"Enter a natural numner: \"))\n",
    "sum = 0\n",
    "for i in range(1,n+1):\n",
    "    sum = sum + i**3\n",
    "print(\"The sum of square of first \",n,\" natural number is \",sum)"
   ]
  },
  {
   "cell_type": "code",
   "execution_count": 10,
   "id": "e705c9b9",
   "metadata": {},
   "outputs": [
    {
     "name": "stdout",
     "output_type": "stream",
     "text": [
      "Enter the number of elements you want in an array :3\n",
      "Enter the value for index 0: 12\n",
      "Enter the value for index 1: 21\n",
      "Enter the value for index 2: 59\n",
      "Sum of array is  92\n"
     ]
    }
   ],
   "source": [
    "## Q7 Python program to find the sum of array 1\n",
    "\n",
    "Length = int(input(\"Enter the number of elements you want in an array :\"))\n",
    "arr = []\n",
    "sum = 0\n",
    "# Adding elements to array\n",
    "for i in range(0,Length):\n",
    "    A = int(input(\"Enter the value for index \"+str(i)+\": \"))\n",
    "    arr.append(A)\n",
    "    sum = sum + A\n",
    "print(\"Sum of array is \",sum)"
   ]
  },
  {
   "cell_type": "code",
   "execution_count": 11,
   "id": "251727d0",
   "metadata": {},
   "outputs": [
    {
     "name": "stdout",
     "output_type": "stream",
     "text": [
      "The largest element in array is  11\n"
     ]
    }
   ],
   "source": [
    "## Q8 Python Program to find largest element in an array\n",
    "\n",
    "arr = [2,5,3,7,8,11]\n",
    "\n",
    "Le = max(arr)\n",
    "\n",
    "print(\"The largest element in array is \",Le)\n"
   ]
  },
  {
   "cell_type": "code",
   "execution_count": 12,
   "id": "cfc8056d",
   "metadata": {},
   "outputs": [
    {
     "name": "stdout",
     "output_type": "stream",
     "text": [
      "Array after left rotation is:  [4, 5, 6, 1, 2, 3]\n"
     ]
    }
   ],
   "source": [
    "## Q9 Python Program for array rotation\n",
    "\n",
    "def rotate_array(a,d):\n",
    "    temp = []\n",
    "    n = len(a)\n",
    "    \n",
    "    for i in range (d,n):\n",
    "        temp.append(a[i])\n",
    "    i = 0\n",
    "    for i in range (0,d):\n",
    "        temp.append(a[i])\n",
    "    a = temp.copy()\n",
    "    return a\n",
    "\n",
    "arr =[1,2,3,4,5,6]\n",
    "print(\"Array after left rotation is: \", end=' ')\n",
    "print(rotate_array(arr,3))"
   ]
  },
  {
   "cell_type": "code",
   "execution_count": 13,
   "id": "8ccf427c",
   "metadata": {},
   "outputs": [
    {
     "name": "stdout",
     "output_type": "stream",
     "text": [
      "10 20 13 24 53 6 17 \n",
      "Shifted array: \n",
      "13 24 53 6 17 10 20 "
     ]
    }
   ],
   "source": [
    "## Q10 Python Program for Reversal algorithm for array rotation\n",
    "def reverseArray(arr, start, end):\n",
    "    while (start < end):\n",
    "        temp=arr[start]\n",
    "        arr[start]=arr[end]\n",
    "        arr[end]=temp\n",
    "        start=start+1\n",
    "        end=end-1\n",
    "  \n",
    "def Rotate(a, d):\n",
    "    if d == 0:\n",
    "        return\n",
    "    n = len(a)\n",
    "    d = d % n\n",
    "    reverseArray(a, 0, d-1)\n",
    "    reverseArray(a, d, n-1)\n",
    "    reverseArray(a, 0, n-1)\n",
    "  \n",
    "def printArray(arr):\n",
    "    for i in range(0, len(arr)):\n",
    "        print(arr[i],end=\" \")\n",
    "  \n",
    "a= [10, 20, 13, 24, 53, 6, 17]\n",
    "n = len(a)\n",
    "d = 2\n",
    "printArray(a)  \n",
    "Rotate(a, d)\n",
    "print(\"\\nShifted array: \")  \n",
    "printArray(a)"
   ]
  },
  {
   "cell_type": "code",
   "execution_count": 14,
   "id": "561f133e",
   "metadata": {},
   "outputs": [
    {
     "name": "stdout",
     "output_type": "stream",
     "text": [
      "15 16 50 36 15 40 "
     ]
    }
   ],
   "source": [
    "## Q11 Python Program to Split the array and add the first part to the end\n",
    "\n",
    "def SplitArray(arr, n, k):\n",
    "\tfor i in range(0, k):\n",
    "\t\tx = arr[0]\n",
    "\t\tfor j in range(0, n-1):\n",
    "\t\t\tarr[j] = arr[j + 1]\n",
    "\t\t\n",
    "\t\tarr[n-1] = x\t\t\n",
    "arr = [15, 40, 15, 16, 50, 36]\n",
    "n = len(arr)\n",
    "position = 2\n",
    "SplitArray(arr, n, position)\n",
    "for i in range(0, n):\n",
    "\tprint(arr[i], end = ' ')"
   ]
  },
  {
   "cell_type": "code",
   "execution_count": null,
   "id": "cc1199fe",
   "metadata": {},
   "outputs": [],
   "source": []
  }
 ],
 "metadata": {
  "kernelspec": {
   "display_name": "Python 3",
   "language": "python",
   "name": "python3"
  },
  "language_info": {
   "codemirror_mode": {
    "name": "ipython",
    "version": 3
   },
   "file_extension": ".py",
   "mimetype": "text/x-python",
   "name": "python",
   "nbconvert_exporter": "python",
   "pygments_lexer": "ipython3",
   "version": "3.8.8"
  }
 },
 "nbformat": 4,
 "nbformat_minor": 5
}

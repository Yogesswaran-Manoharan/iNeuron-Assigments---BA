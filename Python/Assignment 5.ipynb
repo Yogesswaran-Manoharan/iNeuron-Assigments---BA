{
 "cells": [
  {
   "cell_type": "markdown",
   "id": "8f21c89c",
   "metadata": {},
   "source": [
    "# Assignment 5"
   ]
  },
  {
   "cell_type": "code",
   "execution_count": 1,
   "id": "687e3fcb",
   "metadata": {},
   "outputs": [
    {
     "name": "stdout",
     "output_type": "stream",
     "text": [
      "[-9, -8, -7, -6, -5, -4, -3, -2, -1]\n"
     ]
    }
   ],
   "source": [
    "# Q1 Python program to print all negative numbers in a range\n",
    "\n",
    "k=[]\n",
    "\n",
    "def find_positive(a,b):\n",
    "    for i in range(a,b):\n",
    "        if i < 0:\n",
    "            k.append(i)\n",
    "        else:\n",
    "            continue\n",
    "    print(k)\n",
    "    \n",
    "find_positive(-9,10)"
   ]
  },
  {
   "cell_type": "code",
   "execution_count": 3,
   "id": "2273d7fb",
   "metadata": {},
   "outputs": [
    {
     "name": "stdout",
     "output_type": "stream",
     "text": [
      "Enter the size of list : 5\n",
      "Enter the values of 0 : 2\n",
      "Enter the values of 1 : 15\n",
      "Enter the values of 2 : 10\n",
      "Enter the values of 3 : 26\n",
      "Enter the values of 4 : 55\n",
      "[2, 26]\n"
     ]
    }
   ],
   "source": [
    "# Q2 Remove multiple elements from a list in Python\n",
    "\n",
    "k = []\n",
    "\n",
    "n = int(input(\"Enter the size of list : \"))\n",
    "\n",
    "for i in range(0,n):\n",
    "    x = int(input(\"Enter the values of {} : \".format(i)))\n",
    "    k.append(x)\n",
    "    \n",
    "k = [num for num in k if num%5 !=0]\n",
    "\n",
    "print(k)"
   ]
  },
  {
   "cell_type": "code",
   "execution_count": 4,
   "id": "6f6b4285",
   "metadata": {},
   "outputs": [
    {
     "name": "stdout",
     "output_type": "stream",
     "text": [
      "Original list : [21, 3, 15, [], 2, [], 39, [], 2]\n",
      "Clean list : [21, 3, 15, 2, 39, 2]\n"
     ]
    }
   ],
   "source": [
    "# Q3 write a Python program to Remove empty List from List\n",
    "\n",
    "l = [21,3,15,[],2,[],39,[],2]\n",
    "\n",
    "print(\"Original list :\",l)\n",
    "\n",
    "k = [i for i in l if i != []]\n",
    "\n",
    "print(\"Clean list :\",k)"
   ]
  },
  {
   "cell_type": "code",
   "execution_count": 5,
   "id": "f457205a",
   "metadata": {},
   "outputs": [
    {
     "name": "stdout",
     "output_type": "stream",
     "text": [
      "[13, 2, 7, 8, 64, 61, 36]\n"
     ]
    }
   ],
   "source": [
    "# Q4 write a Python program to Cloning or Copying a list\n",
    "\n",
    "x = [13,2,7,8,64,61,36]\n",
    "\n",
    "y = x.copy()\n",
    "\n",
    "print(y)"
   ]
  },
  {
   "cell_type": "code",
   "execution_count": 6,
   "id": "746a18b9",
   "metadata": {},
   "outputs": [
    {
     "name": "stdout",
     "output_type": "stream",
     "text": [
      "36 occurs 3 times in the list\n"
     ]
    }
   ],
   "source": [
    "# Q5 write a Python program to Count occurrences of an element in a list\n",
    "\n",
    "x = [13,2,7,8,64,61,36,36,36,2,2,2,2]\n",
    "\n",
    "def count(n):\n",
    "    count = 0\n",
    "    for i in x:\n",
    "        if i == n:\n",
    "            count = count+1\n",
    "    print(\"{} occurs {} times in the list\".format(n,count))\n",
    "\n",
    "count(36)"
   ]
  },
  {
   "cell_type": "code",
   "execution_count": 15,
   "id": "8cea1ef9",
   "metadata": {},
   "outputs": [
    {
     "name": "stdout",
     "output_type": "stream",
     "text": [
      "Original list : [21, 3, 15, (), 2, (), 39, (), 2]\n",
      "Clean list : [21, 3, 15, 2, 39, 2]\n"
     ]
    }
   ],
   "source": [
    "# Q6 write a Python program to Remove empty tuples from a list\n",
    "\n",
    "l = [21,3,15,(),2,(),39,(),2]\n",
    "\n",
    "print(\"Original list :\",l)\n",
    "\n",
    "k = [i for i in l if i != ()]\n",
    "\n",
    "print(\"Clean list :\",k)"
   ]
  },
  {
   "cell_type": "code",
   "execution_count": 19,
   "id": "0014a172",
   "metadata": {},
   "outputs": [
    {
     "data": {
      "text/plain": [
       "[2, 36]"
      ]
     },
     "execution_count": 19,
     "metadata": {},
     "output_type": "execute_result"
    }
   ],
   "source": [
    "# Q7 write a Python program to Program to print duplicates from a list of integers\n",
    "\n",
    "x = [13,2,7,8,64,61,36,36,36,2,2,2,2]\n",
    "\n",
    "def find_dup(x):\n",
    "    k = []\n",
    "    for i in x:\n",
    "        if x.count(i) > 1 and i not in k:\n",
    "            k.append(i)\n",
    "        else:\n",
    "            pass\n",
    "    return k\n",
    "\n",
    "find_dup(x)"
   ]
  },
  {
   "cell_type": "code",
   "execution_count": 25,
   "id": "3dcd07bd",
   "metadata": {},
   "outputs": [
    {
     "data": {
      "text/plain": [
       "[13, 15, 22, 30, 94, 155, 191, 227, 263, 265, 267, 269, 271]"
      ]
     },
     "execution_count": 25,
     "metadata": {},
     "output_type": "execute_result"
    }
   ],
   "source": [
    "# Q8 write a Python program to find Cumulative sum of a list\n",
    "\n",
    "x = [13,2,7,8,64,61,36,36,36,2,2,2,2]\n",
    "\n",
    "cum = []\n",
    "\n",
    "def find_cum(x):\n",
    "    s = 0\n",
    "    for i in x:\n",
    "        s = s+i\n",
    "        cum.append(s)\n",
    "    return cum\n",
    "\n",
    "find_cum(x)"
   ]
  },
  {
   "cell_type": "code",
   "execution_count": 26,
   "id": "f068ceaa",
   "metadata": {},
   "outputs": [
    {
     "data": {
      "text/plain": [
       "271"
      ]
     },
     "execution_count": 26,
     "metadata": {},
     "output_type": "execute_result"
    }
   ],
   "source": [
    "# Q9 write a Python program to Sum of number digits in List\n",
    "\n",
    "x = [13,2,7,8,64,61,36,36,36,2,2,2,2]\n",
    "\n",
    "def find_cum(x):\n",
    "    s = 0\n",
    "    for i in x:\n",
    "        s = s+i\n",
    "    return s\n",
    "\n",
    "find_cum(x)"
   ]
  },
  {
   "cell_type": "code",
   "execution_count": 28,
   "id": "8d6af483",
   "metadata": {},
   "outputs": [
    {
     "name": "stdout",
     "output_type": "stream",
     "text": [
      "Enter chunk size : 2\n",
      "[[13, 2], [7, 8], [64, 61], [36, 36], [36, 2], [2, 2], [2]]\n"
     ]
    }
   ],
   "source": [
    "# Q10 write a Python program to Break a list into chunks of size N\n",
    "\n",
    "x = [13,2,7,8,64,61,36,36,36,2,2,2,2]\n",
    "\n",
    "n = int(input(\"Enter chunk size : \"))\n",
    "chunk_size = n\n",
    "chunked_list = [x[i:i+chunk_size] for i in range(0, len(x), chunk_size)]\n",
    "print(chunked_list)"
   ]
  },
  {
   "cell_type": "code",
   "execution_count": 29,
   "id": "a27ea80c",
   "metadata": {},
   "outputs": [
    {
     "name": "stdout",
     "output_type": "stream",
     "text": [
      "['3', '4', '5', '6', '1', '2']\n"
     ]
    }
   ],
   "source": [
    "# Q11 write a Python program to Sort the values of first list using second list\n",
    "\n",
    "first_list = [\"O\",\"X\",\"A\",\"C\",\"D\",\"K\"]\n",
    "second_list = ['1','2','3','4','5','6']\n",
    "\n",
    "zipped_pairs = zip(first_list,second_list)\n",
    "\n",
    "sorted_pairs = sorted(zipped_pairs)\n",
    "\n",
    "result = [item[1] for item in sorted_pairs]\n",
    "\n",
    "print(result)"
   ]
  },
  {
   "cell_type": "code",
   "execution_count": null,
   "id": "9a22d751",
   "metadata": {},
   "outputs": [],
   "source": []
  }
 ],
 "metadata": {
  "kernelspec": {
   "display_name": "Python 3",
   "language": "python",
   "name": "python3"
  },
  "language_info": {
   "codemirror_mode": {
    "name": "ipython",
    "version": 3
   },
   "file_extension": ".py",
   "mimetype": "text/x-python",
   "name": "python",
   "nbconvert_exporter": "python",
   "pygments_lexer": "ipython3",
   "version": "3.8.8"
  }
 },
 "nbformat": 4,
 "nbformat_minor": 5
}

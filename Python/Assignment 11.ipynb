{
 "cells": [
  {
   "cell_type": "markdown",
   "id": "29b274cc",
   "metadata": {},
   "source": [
    "# Assignment 11"
   ]
  },
  {
   "cell_type": "code",
   "execution_count": 2,
   "id": "eead132c",
   "metadata": {},
   "outputs": [
    {
     "name": "stdout",
     "output_type": "stream",
     "text": [
      "Original dict\n",
      " {'a': [3, 5, 7], 'g': [9, 5, 4], 'b': [7, 6, 1]}\n",
      "Sorted dict\n",
      " {'a': [3, 5, 7], 'b': [1, 6, 7], 'g': [4, 5, 9]}\n"
     ]
    }
   ],
   "source": [
    "# Q1 Python – Sort Dictionary key and values List\n",
    "# input\n",
    "my_dict = {'a':[3,5,7],'g':[9,5,4],'b':[7,6,1]}\n",
    "\n",
    "# output\n",
    "sorted_list = dict()\n",
    "for key in sorted(my_dict):\n",
    "    sorted_list[key] = sorted(my_dict[key])\n",
    "    \n",
    "print('Original dict\\n',my_dict)\n",
    "print('Sorted dict\\n',sorted_list)"
   ]
  },
  {
   "cell_type": "code",
   "execution_count": 8,
   "id": "3d178e33",
   "metadata": {},
   "outputs": [
    {
     "name": "stdout",
     "output_type": "stream",
     "text": [
      "Using get() function\n",
      "[7, 6, 1]\n",
      "Not Available\n",
      "\n",
      "\n",
      "Using setdefault() function\n",
      "[7, 6, 1]\n",
      "Not Available\n",
      "\n",
      "\n",
      "2\n",
      "Key not found\n"
     ]
    }
   ],
   "source": [
    "# Q2 - Handling missing keys in Python dictionaries\n",
    "\n",
    "my_dict = {'a':[3,5,7],'g':[9,5,4],'b':[7,6,1]}\n",
    "\n",
    "# Method 1 - 'Get'\n",
    "print('Using get() function')\n",
    "print(my_dict.get('b',\"Not Available\"))\n",
    "print(my_dict.get('c',\"Not Available\"))\n",
    "print('\\n')\n",
    "# Method 2 - 'setdefault'\n",
    "print('Using setdefault() function')\n",
    "print(my_dict.setdefault('b',\"Not Available\"))\n",
    "print(my_dict.setdefault('c',\"Not Available\"))\n",
    "print('\\n')\n",
    "#method 3 - 'defaultdict'\n",
    "from collections import defaultdict\n",
    "\n",
    "d = defaultdict(lambda : 'Key not found')\n",
    "d['a']= 2\n",
    "d['b']= 4\n",
    "\n",
    "print(d['a'])\n",
    "print(d['c'])"
   ]
  },
  {
   "cell_type": "code",
   "execution_count": 14,
   "id": "da6f0ca7",
   "metadata": {},
   "outputs": [
    {
     "name": "stdout",
     "output_type": "stream",
     "text": [
      "{(24, 34, 45): 103}\n",
      "\n",
      "\n",
      "{('Ram Kumar', '123654'): '10th A', ('Prasath', '98354'): '10th C'}\n",
      "\n",
      "\n",
      "['Ram Kumar', 'Prasath']\n",
      "['123654', '98354']\n",
      "['10th A', '10th C']\n"
     ]
    }
   ],
   "source": [
    "# Q3 - Python dictionary with keys having multiple inputs\n",
    "\n",
    "# Method 1\n",
    "# empty dictionary\n",
    "dict = {}\n",
    "\n",
    "x,y,z = 24,34,45\n",
    "dict[x,y,z] = x+y+z\n",
    "\n",
    "print(dict)\n",
    "print('\\n')\n",
    "# Method 2\n",
    "Class_details = {(\"Ram Kumar\", \"123654\"):\"10th A\", \\\n",
    "          (\"Prasath\", \"98354\"):\"10th C\"}\n",
    " \n",
    "print(Class_details)\n",
    "print('\\n')\n",
    " \n",
    "Name = []\n",
    "Roll_no = []\n",
    "Class = []\n",
    "for i in Class_details:\n",
    "    Name.append(i[0])\n",
    "    Roll_no.append(i[1])\n",
    "    Class.append(Class_details[i[0], i[1]])\n",
    " \n",
    "print(Name)\n",
    "print(Roll_no)\n",
    "print(Class)"
   ]
  },
  {
   "cell_type": "code",
   "execution_count": 21,
   "id": "0952ccaa",
   "metadata": {},
   "outputs": [
    {
     "name": "stdout",
     "output_type": "stream",
     "text": [
      "cat tac act dog god \n"
     ]
    }
   ],
   "source": [
    "# Q4 - Print anagrams together in Python using List and Dictionary\n",
    "\n",
    "def Anagram(d_list):\n",
    "    dict = {}\n",
    "    \n",
    "    for val in d_list:\n",
    "        key = ''.join(sorted(val))\n",
    "        \n",
    "        if key in dict.keys():\n",
    "            dict[key].append(val)\n",
    "        else:\n",
    "            dict[key] = []\n",
    "            dict[key].append(val)\n",
    "    \n",
    "    output = \"\"\n",
    "    for key,value in dict.items():\n",
    "        output = output + ' '.join(value) + ' '\n",
    " \n",
    "    return output\n",
    "\n",
    "d_list = ['cat','dog','tac','god','act']\n",
    "print(Anagram(d_list))"
   ]
  },
  {
   "cell_type": "code",
   "execution_count": 27,
   "id": "0ca86db2",
   "metadata": {},
   "outputs": [
    {
     "name": "stdout",
     "output_type": "stream",
     "text": [
      "o\n"
     ]
    }
   ],
   "source": [
    "# Q5 - K’th Non-repeating Character in Python using List Comprehension and OrderedDict\n",
    "\n",
    "from collections import OrderedDict\n",
    "\n",
    "def K_repeat(input,k):\n",
    "    dict = OrderedDict.fromkeys(input,0)\n",
    "    \n",
    "    for c in input:\n",
    "        dict[c] = dict[c]+1\n",
    "        \n",
    "    nonrepeat = [key for key,value in dict.items() if value == 1]\n",
    "    \n",
    "    if len(nonrepeat) < k:\n",
    "        return 'Less than %s non-repeating characters in input'\n",
    "    else:\n",
    "        return nonrepeat[k-1]\n",
    "    \n",
    "input = 'geeksforgeeks'\n",
    "k = 2\n",
    "print(K_repeat(input,k))"
   ]
  },
  {
   "cell_type": "code",
   "execution_count": 7,
   "id": "f178814f",
   "metadata": {},
   "outputs": [
    {
     "name": "stdout",
     "output_type": "stream",
     "text": [
      " Binary :  100 1001\n",
      " Equalize :  0100 1001\n",
      " Dictionary :  Counter({'0': 3, '1': 1}) Counter({'1': 2, '0': 2})\n",
      "The numbers are not anagram\n"
     ]
    }
   ],
   "source": [
    "# Q6 - Check if binary representations of two numbers are anagram\n",
    "\n",
    "from collections import Counter\n",
    "\n",
    "def check_ang(a,b):\n",
    "    # convert intergers into Binary\n",
    "    b1 = bin(a)[2:]\n",
    "    b2 = bin(b)[2:]\n",
    "    print(\" Binary : \",b1,b2)\n",
    "    \n",
    "    # append zeros in shorter string\n",
    "    zeros = abs(len(b1)-len(b2))\n",
    "    if (len(b1)>len(b2)):\n",
    "        b2 = zeros * '0' + b2\n",
    "    else:\n",
    "        b1 = zeros * '0' + b1\n",
    "    print(\" Equalize : \",b1,b2)\n",
    "    \n",
    "    # convert binary to dictionary\n",
    "    d1 = Counter(b1)\n",
    "    d2 = Counter(b2)\n",
    "    print(\" Dictionary : \",d1,d2)\n",
    "    # compare both dict\n",
    "    if d1 == d2:\n",
    "        print('The numbers are anagram')\n",
    "    else:\n",
    "        print('The numbers are not anagram')\n",
    "        \n",
    "a = 4\n",
    "b = 9\n",
    "check_ang(a,b)"
   ]
  },
  {
   "cell_type": "code",
   "execution_count": 16,
   "id": "da6c9b4b",
   "metadata": {},
   "outputs": [
    {
     "name": "stdout",
     "output_type": "stream",
     "text": [
      "Split : ['qwe', 'ewq', 'rty', 'ytr', 'ytr', 'ytr']\n",
      "Sort & Join :  ['eqw', 'eqw', 'rty', 'rty', 'rty', 'rty']\n",
      "The Size Of largest subset of Anangram word is 4\n"
     ]
    }
   ],
   "source": [
    "# Q7 - Python Counter to find the size of largest subset of anagram words\n",
    "\n",
    "from collections import Counter\n",
    "\n",
    "def max_ang(word):\n",
    "    # split the word\n",
    "    x = word.split(\" \")\n",
    "    print(\"Split :\", x)\n",
    "    \n",
    "    # join and sort\n",
    "    for i in range(0,len(x)):\n",
    "        x[i] = ''.join(sorted(x[i]))\n",
    "    \n",
    "    print(\"Sort & Join : \",x)\n",
    "    \n",
    "                       \n",
    "    # Form Dict using Counter\n",
    "    d = Counter(x)\n",
    "                       \n",
    "    # get maximum value of frequecy\n",
    "    print(\"The Size Of largest subset of Anangram word is\",max(d.values()))\n",
    "    \n",
    "word = \"qwe ewq rty ytr ytr ytr\"\n",
    "max_ang(word)\n",
    "    "
   ]
  },
  {
   "cell_type": "code",
   "execution_count": 19,
   "id": "f4c0349a",
   "metadata": {},
   "outputs": [
    {
     "name": "stdout",
     "output_type": "stream",
     "text": [
      "There are two children playing in the park\n"
     ]
    }
   ],
   "source": [
    "# Q8 - Python | Remove all duplicates words from a given sentence\n",
    "\n",
    "from collections import Counter\n",
    "\n",
    "def rem_d(st):\n",
    "    # split\n",
    "    x = st.split(' ')\n",
    "    \n",
    "    d = Counter(x)\n",
    "    \n",
    "    res = ' '.join(d.keys())\n",
    "    \n",
    "    print(res)\n",
    "    \n",
    "st = \"There are two children children playing in the park\"\n",
    "rem_d(st)"
   ]
  },
  {
   "cell_type": "code",
   "execution_count": 25,
   "id": "a17b87a1",
   "metadata": {},
   "outputs": [
    {
     "name": "stdout",
     "output_type": "stream",
     "text": [
      "pythlm\n"
     ]
    }
   ],
   "source": [
    "# Q9 : Python Dictionary to find mirror characters in a string\n",
    "\n",
    "def MirrorChar(string,k):\n",
    " \n",
    "    # create dictionary\n",
    "    order = 'abcdefghijklmnopqrstuvwxyz'\n",
    "    reverse = 'zyxwvutsrqponmlkjihgfedcba'\n",
    "    dictChars = dict(zip(order,reverse))\n",
    " \n",
    "    # divide string at k    \n",
    "    pre = string[0:k-1]\n",
    "    suffix = string[k-1:]\n",
    "    mirror = ''\n",
    " \n",
    "    # change suffix into mirror char\n",
    "    for i in range( len(suffix)):\n",
    "         mirror = mirror + dictChars[suffix[i]]\n",
    " \n",
    "    # join prefix and mirrored part\n",
    "    print (pre+mirror)\n",
    "          \n",
    "st = 'python'\n",
    "k = 5\n",
    "MirrorChar(st,k)\n"
   ]
  },
  {
   "cell_type": "code",
   "execution_count": 26,
   "id": "1fd0ffcf",
   "metadata": {},
   "outputs": [
    {
     "name": "stdout",
     "output_type": "stream",
     "text": [
      "{'a': 2, 's': 2, 'c': 3, 'b': 1}\n"
     ]
    }
   ],
   "source": [
    "# Q10 Counting the frequencies in a list using dictionary in Python\n",
    "\n",
    "def Co_f(lis):\n",
    "    freq = {}\n",
    "    for i in lis:\n",
    "        freq[i] = lis.count(i)\n",
    "    print(freq)\n",
    "    \n",
    "lis = ['a', 's', 'a', 's', 'c', 'c', 'c','b']\n",
    "Co_f(lis)"
   ]
  },
  {
   "cell_type": "code",
   "execution_count": null,
   "id": "bd621b73",
   "metadata": {},
   "outputs": [],
   "source": []
  }
 ],
 "metadata": {
  "kernelspec": {
   "display_name": "Python 3",
   "language": "python",
   "name": "python3"
  },
  "language_info": {
   "codemirror_mode": {
    "name": "ipython",
    "version": 3
   },
   "file_extension": ".py",
   "mimetype": "text/x-python",
   "name": "python",
   "nbconvert_exporter": "python",
   "pygments_lexer": "ipython3",
   "version": "3.8.8"
  }
 },
 "nbformat": 4,
 "nbformat_minor": 5
}

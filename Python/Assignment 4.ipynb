{
 "cells": [
  {
   "cell_type": "markdown",
   "id": "5a9faa6f",
   "metadata": {},
   "source": [
    "# Assignment 4"
   ]
  },
  {
   "cell_type": "code",
   "execution_count": 1,
   "id": "46b66f42",
   "metadata": {},
   "outputs": [
    {
     "name": "stdout",
     "output_type": "stream",
     "text": [
      "1\n"
     ]
    }
   ],
   "source": [
    "# Q1 Python program to find smallest number in a list\n",
    "\n",
    "x = [1,2,3,4,5,7]\n",
    "\n",
    "print(min(x))"
   ]
  },
  {
   "cell_type": "code",
   "execution_count": 2,
   "id": "20b6bf9b",
   "metadata": {},
   "outputs": [
    {
     "name": "stdout",
     "output_type": "stream",
     "text": [
      "7\n"
     ]
    }
   ],
   "source": [
    "# Q2 Python program to find largest number in a list\n",
    "\n",
    "x = [1,2,3,4,5,7]\n",
    "\n",
    "print(max(x))"
   ]
  },
  {
   "cell_type": "code",
   "execution_count": 3,
   "id": "0118c09b",
   "metadata": {},
   "outputs": [
    {
     "name": "stdout",
     "output_type": "stream",
     "text": [
      "5\n"
     ]
    }
   ],
   "source": [
    "# Q3 Python program to find second largest number in a list\n",
    "\n",
    "x = [4,5,6,2,2,1]\n",
    "\n",
    "x.sort()\n",
    "\n",
    "print(x[-2])"
   ]
  },
  {
   "cell_type": "code",
   "execution_count": 4,
   "id": "2418f758",
   "metadata": {},
   "outputs": [
    {
     "name": "stdout",
     "output_type": "stream",
     "text": [
      "5\n"
     ]
    }
   ],
   "source": [
    "# Q4 Python program to find N largest elements from a list\n",
    "\n",
    "x = [4,5,6,2,2,1]\n",
    "\n",
    "x.sort()\n",
    "\n",
    "def find(n):\n",
    "    i = len(x)-n\n",
    "    print(x[i])\n",
    "    \n",
    "find(2)"
   ]
  },
  {
   "cell_type": "code",
   "execution_count": 5,
   "id": "ba4bec0a",
   "metadata": {},
   "outputs": [
    {
     "name": "stdout",
     "output_type": "stream",
     "text": [
      "[4, 6, 2, 2]\n"
     ]
    }
   ],
   "source": [
    "# Q5 Python program to print even numbers in a list\n",
    "\n",
    "x = [4,5,6,2,2,1]\n",
    "\n",
    "k=[]\n",
    "for i in x:\n",
    "    if i%2 == 0:\n",
    "        k.append(i)\n",
    "    else:\n",
    "        continue\n",
    "print(k)"
   ]
  },
  {
   "cell_type": "code",
   "execution_count": 6,
   "id": "793864dd",
   "metadata": {},
   "outputs": [
    {
     "name": "stdout",
     "output_type": "stream",
     "text": [
      "[5, 1]\n"
     ]
    }
   ],
   "source": [
    "# Q6 Python program to print odd numbers in a List\n",
    "\n",
    "x = [4,5,6,2,2,1]\n",
    "\n",
    "k=[]\n",
    "for i in x:\n",
    "    if i%2 != 0:\n",
    "        k.append(i)\n",
    "    else:\n",
    "        continue\n",
    "print(k)"
   ]
  },
  {
   "cell_type": "code",
   "execution_count": 7,
   "id": "6e1fed24",
   "metadata": {},
   "outputs": [
    {
     "name": "stdout",
     "output_type": "stream",
     "text": [
      "[0, 2, 4, 6, 8, 10, 12, 14, 16, 18, 20, 22, 24]\n"
     ]
    }
   ],
   "source": [
    "# Q7 Python program to print all even numbers in a range\n",
    "\n",
    "k=[]\n",
    "\n",
    "def find_even(n):\n",
    "    for i in range(n):\n",
    "        if i%2 == 0:\n",
    "            k.append(i)\n",
    "        else:\n",
    "            continue\n",
    "    print(k)\n",
    "    \n",
    "find_even(25)"
   ]
  },
  {
   "cell_type": "code",
   "execution_count": 8,
   "id": "d9c91725",
   "metadata": {},
   "outputs": [
    {
     "name": "stdout",
     "output_type": "stream",
     "text": [
      "[1, 3, 5, 7, 9, 11, 13, 15, 17, 19, 21, 23]\n"
     ]
    }
   ],
   "source": [
    "# Q8 Python program to print all odd numbers in a range\n",
    "\n",
    "k=[]\n",
    "\n",
    "def find_even(n):\n",
    "    for i in range(n):\n",
    "        if i%2 != 0:\n",
    "            k.append(i)\n",
    "        else:\n",
    "            continue\n",
    "    print(k)\n",
    "    \n",
    "find_even(25)"
   ]
  },
  {
   "cell_type": "code",
   "execution_count": 9,
   "id": "94d55688",
   "metadata": {},
   "outputs": [
    {
     "name": "stdout",
     "output_type": "stream",
     "text": [
      "[4, 2, 1]\n"
     ]
    }
   ],
   "source": [
    "# Q9 Python program to print positive numbers in a list\n",
    "\n",
    "x = [4,-5,-6,2,-2,1]\n",
    "\n",
    "k=[]\n",
    "for i in x:\n",
    "    if i >= 0:\n",
    "        k.append(i)\n",
    "    else:\n",
    "        continue\n",
    "print(k)"
   ]
  },
  {
   "cell_type": "code",
   "execution_count": 10,
   "id": "63807f4d",
   "metadata": {},
   "outputs": [
    {
     "name": "stdout",
     "output_type": "stream",
     "text": [
      "[-5, -6, -2]\n"
     ]
    }
   ],
   "source": [
    "# Q10 Python program to print negative numbers in a list\n",
    "\n",
    "x = [4,-5,-6,2,-2,1]\n",
    "\n",
    "k=[]\n",
    "for i in x:\n",
    "    if i < 0:\n",
    "        k.append(i)\n",
    "    else:\n",
    "        continue\n",
    "print(k)"
   ]
  },
  {
   "cell_type": "code",
   "execution_count": 11,
   "id": "1d35df75",
   "metadata": {},
   "outputs": [
    {
     "name": "stdout",
     "output_type": "stream",
     "text": [
      "[0, 1, 2, 3, 4, 5, 6, 7, 8, 9]\n"
     ]
    }
   ],
   "source": [
    "# Q11 Python program to print all positive numbers in a range\n",
    "\n",
    "k=[]\n",
    "\n",
    "def find_positive(a,b):\n",
    "    for i in range(a,b):\n",
    "        if i >= 0:\n",
    "            k.append(i)\n",
    "        else:\n",
    "            continue\n",
    "    print(k)\n",
    "    \n",
    "find_positive(-9,10)"
   ]
  },
  {
   "cell_type": "code",
   "execution_count": null,
   "id": "c3a3e2f8",
   "metadata": {},
   "outputs": [],
   "source": []
  }
 ],
 "metadata": {
  "kernelspec": {
   "display_name": "Python 3",
   "language": "python",
   "name": "python3"
  },
  "language_info": {
   "codemirror_mode": {
    "name": "ipython",
    "version": 3
   },
   "file_extension": ".py",
   "mimetype": "text/x-python",
   "name": "python",
   "nbconvert_exporter": "python",
   "pygments_lexer": "ipython3",
   "version": "3.8.8"
  }
 },
 "nbformat": 4,
 "nbformat_minor": 5
}

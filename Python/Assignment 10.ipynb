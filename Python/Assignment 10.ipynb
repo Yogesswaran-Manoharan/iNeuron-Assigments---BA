{
 "cells": [
  {
   "cell_type": "markdown",
   "id": "8acdf76f",
   "metadata": {},
   "source": [
    "# Assignment 10"
   ]
  },
  {
   "cell_type": "code",
   "execution_count": 4,
   "id": "dd456752",
   "metadata": {},
   "outputs": [
    {
     "name": "stdout",
     "output_type": "stream",
     "text": [
      "Current items in dictionary :  {'Burger': 10, 'Cola': 0.5, 'French Fires': 1.5, 'Choco Bites': 2}\n",
      "Remaining items after removal :  {'Burger': 10, 'Cola': 0.5, 'French Fires': 1.5}\n",
      "The removed keys values is  2\n"
     ]
    }
   ],
   "source": [
    "# Q1 Python | Ways to remove a key from dictionary\n",
    "\n",
    "my_dict = {'Burger' : 10, 'Cola' : 0.5, 'French Fires' : 1.5, 'Choco Bites' : 2}\n",
    "\n",
    "print('Current items in dictionary : ',my_dict)\n",
    "\n",
    "rem_values = my_dict.pop('Choco Bites')\n",
    "\n",
    "print('Remaining items after removal : ',my_dict)\n",
    "print('The removed keys values is ',rem_values)"
   ]
  },
  {
   "cell_type": "code",
   "execution_count": 13,
   "id": "74c256be",
   "metadata": {},
   "outputs": [
    {
     "name": "stdout",
     "output_type": "stream",
     "text": [
      "The list below is sorted by rate in ascending order\n",
      " [{'Item': 'Cola', 'Rate': 0.5}, {'Item': 'French Fires', 'Rate': 1.5}, {'Item': 'Choco Bites', 'Rate': 2}, {'Item': 'Burger', 'Rate': 10}]\n",
      "\n",
      "The list below is sorted by Item, rate in descending order\n",
      " [{'Item': 'French Fires', 'Rate': 1.5}, {'Item': 'Cola', 'Rate': 0.5}, {'Item': 'Choco Bites', 'Rate': 2}, {'Item': 'Burger', 'Rate': 10}]\n"
     ]
    }
   ],
   "source": [
    "# Q2 Ways to sort list of dictionaries by values in Python – Using itemgetter\n",
    "\n",
    "# import package itemgetter\n",
    "\n",
    "from operator import itemgetter\n",
    "\n",
    "my_dict = [{'Item':'Burger','Rate' : 10},{'Item':'Cola','Rate': 0.5},{'Item':'French Fires','Rate' : 1.5},\n",
    "           {'Item':'Choco Bites','Rate': 2}]\n",
    "\n",
    "# Sorted by rate low to high\n",
    "L_sort = sorted(my_dict,key=itemgetter('Rate'))\n",
    "print (\"The list below is sorted by rate in ascending order\\n\",L_sort)\n",
    "\n",
    "L_sort = sorted(my_dict,key=itemgetter('Item','Rate'),reverse = True)\n",
    "print (\"\\nThe list below is sorted by Item, rate in descending order\\n\",L_sort)"
   ]
  },
  {
   "cell_type": "code",
   "execution_count": 19,
   "id": "44dcd312",
   "metadata": {},
   "outputs": [
    {
     "name": "stdout",
     "output_type": "stream",
     "text": [
      "The list below is sorted by rate in descending order\n",
      " [{'Item': 'Burger', 'Rate': 10}, {'Item': 'Choco Bites', 'Rate': 2}, {'Item': 'French Fires', 'Rate': 1.5}, {'Item': 'Cola', 'Rate': 0.5}]\n",
      "\n",
      "The list below is sorted by Item, rate in ascending order\n",
      " [{'Item': 'Burger', 'Rate': 10}, {'Item': 'Choco Bites', 'Rate': 2}, {'Item': 'Cola', 'Rate': 0.5}, {'Item': 'French Fires', 'Rate': 1.5}]\n"
     ]
    }
   ],
   "source": [
    "# Q3 Ways to sort list of dictionaries by values in Python – Using lambda function\n",
    "\n",
    "my_dit = [{'Item':'Burger','Rate' : 10},{'Item':'Cola','Rate': 0.5},{'Item':'French Fires','Rate' : 1.5},\n",
    "           {'Item':'Choco Bites','Rate': 2}]\n",
    "\n",
    "L_sort = sorted(my_dit,key=lambda i : i['Rate'],reverse = True)\n",
    "print (\"The list below is sorted by rate in descending order\\n\",L_sort)\n",
    "\n",
    "L_sort = sorted(my_dict,key=lambda i: (i['Item'],['Rate']))\n",
    "print (\"\\nThe list below is sorted by Item, rate in ascending order\\n\",L_sort)"
   ]
  },
  {
   "cell_type": "code",
   "execution_count": 32,
   "id": "b950a810",
   "metadata": {},
   "outputs": [
    {
     "name": "stdout",
     "output_type": "stream",
     "text": [
      "T1 merge :\n",
      " {'French Fires': 1.5, 'Choco Bites': 2, 'Burger': 10, 'Cola': 0.5}\n"
     ]
    }
   ],
   "source": [
    "# Q4 Python | Merging two Dictionaries\n",
    "\n",
    "# merge two dictionaries using update() and '|' \n",
    "\n",
    "def merge_u(d1,d2):\n",
    "    return(d2.update(d1))\n",
    "\n",
    "d1 = {'Burger': 10,'Cola': 0.5}\n",
    "d2 = {'French Fires': 1.5,'Choco Bites': 2}\n",
    "\n",
    "merge_u(d1,d2)\n",
    "print('T1 merge :\\n',d2)"
   ]
  },
  {
   "cell_type": "code",
   "execution_count": 35,
   "id": "b5dd4d0e",
   "metadata": {},
   "outputs": [
    {
     "name": "stdout",
     "output_type": "stream",
     "text": [
      "Current dictionary and its values :\n",
      " {'Day': [1, 2, 3, 4, 5, 6, 7], 'Name': ['Mon', 'Tue', 'Wed', 'Thu', 'Fri', 'Sat', 'Sun']}\n",
      "\n",
      "New dictionary and its values :\n",
      " {1: 'Mon', 2: 'Tue', 3: 'Wed', 4: 'Thu', 5: 'Fri', 6: 'Sat', 7: 'Sun'}\n"
     ]
    }
   ],
   "source": [
    "# Q5 Python – Convert key-values list to flat dictionary\n",
    "\n",
    "# import package from itertools\n",
    "\n",
    "from itertools import product\n",
    "\n",
    "d1 = {'Day':[1,2,3,4,5,6,7],'Name':['Mon','Tue','Wed','Thu','Fri','Sat','Sun']}\n",
    "\n",
    "print('Current dictionary and its values :\\n',d1)\n",
    "\n",
    "new_d = dict(zip(d1['Day'],d1['Name']))\n",
    "\n",
    "print('\\nNew dictionary and its values :\\n',new_d)"
   ]
  },
  {
   "cell_type": "code",
   "execution_count": 9,
   "id": "880ed576",
   "metadata": {},
   "outputs": [
    {
     "name": "stdout",
     "output_type": "stream",
     "text": [
      "New_dict :\n",
      " OrderedDict([('D', '400'), ('A', '100'), ('B', '200'), ('C', '300')])\n"
     ]
    }
   ],
   "source": [
    "# Q6 Python – Insertion at the beginning in OrderedDict\n",
    "\n",
    "from collections import OrderedDict\n",
    "\n",
    "dict1 = OrderedDict ([('A','100'),('B','200'),('C','300')])\n",
    "dict1.update({'D':'400'})\n",
    "dict1.move_to_end('D',last=False)\n",
    "\n",
    "print('New_dict :\\n',dict1)"
   ]
  },
  {
   "cell_type": "code",
   "execution_count": 12,
   "id": "ce3514cd",
   "metadata": {},
   "outputs": [
    {
     "name": "stdout",
     "output_type": "stream",
     "text": [
      "Input :  comicon\n",
      "Pattern :  co\n",
      "The order of pattern is correct\n"
     ]
    }
   ],
   "source": [
    "# Q7 Python | Check order of character in string using OrderedDict( )\n",
    "\n",
    "from collections import OrderedDict\n",
    "\n",
    "def check_order(inpt,pattern):\n",
    "    # empty ordered dictionary\n",
    "    my_dict = OrderedDict.fromkeys(my_input)\n",
    "    pattern_l = 0\n",
    "    for k,v in my_dict.items():\n",
    "        if (k == my_p[pattern_l]):\n",
    "            pattern_l += 1\n",
    "            \n",
    "        if (pattern_l == len(my_p)):\n",
    "            return 'The order of pattern is correct'\n",
    "    return 'The order of pattern is incorrect'\n",
    "\n",
    "my_input = 'comicon'\n",
    "my_p = 'co'\n",
    "\n",
    "print('Input : ',my_input)\n",
    "print('Pattern : ',my_p)\n",
    "print(check_order(my_input,my_p))"
   ]
  },
  {
   "cell_type": "code",
   "execution_count": null,
   "id": "b148222a",
   "metadata": {},
   "outputs": [],
   "source": [
    "# Q8 Dictionary and counter in Python to find winner of election\n",
    "\n",
    "from collections import Counter\n",
    "\n",
    "def winner(i):\n",
    "    votes = Counter(i)\n",
    "    #empty dict\n",
    "    my_dict = {}\n",
    "    \n",
    "    for v in votes.values():\n",
    "        "
   ]
  },
  {
   "cell_type": "code",
   "execution_count": 14,
   "id": "59601944",
   "metadata": {},
   "outputs": [
    {
     "name": "stdout",
     "output_type": "stream",
     "text": [
      "Ordered list ['Sun', 'Mon', 'Tue', 'Wed', 'Thu', 'Fri', 'Sat', 1, 2, 3, 4, 5, 6, 7]\n"
     ]
    }
   ],
   "source": [
    "# Q9 Python – Append Dictionary Keys and Values ( In order ) in dictionary\n",
    "\n",
    "# input \n",
    "\n",
    "my_dict = {'Sun':1,'Mon':2,'Tue':3,'Wed':4,'Thu':5,'Fri':6,'Sat':7}\n",
    "\n",
    "final = list(my_dict.keys())+list(my_dict.values())\n",
    "\n",
    "print('Ordered list',final)"
   ]
  },
  {
   "cell_type": "code",
   "execution_count": 16,
   "id": "6fb21f63",
   "metadata": {},
   "outputs": [
    {
     "name": "stdout",
     "output_type": "stream",
     "text": [
      "Fri 6 Mon 2 Sat 7 Sun 1 Thu 5 Tue 3 Wed 4 "
     ]
    }
   ],
   "source": [
    "# Q10 Python | Sort Python Dictionaries by Key or Value\n",
    "\n",
    "# input\n",
    "\n",
    "my_dict = {'Sun':1,'Mon':2,'Tue':3,'Wed':4,'Thu':5,'Fri':6,'Sat':7}\n",
    "\n",
    "# sorted using keys/values\n",
    "\n",
    "for i in sorted(my_dict.keys()):\n",
    "    print(i,my_dict[i],end=\" \")"
   ]
  }
 ],
 "metadata": {
  "kernelspec": {
   "display_name": "Python 3",
   "language": "python",
   "name": "python3"
  },
  "language_info": {
   "codemirror_mode": {
    "name": "ipython",
    "version": 3
   },
   "file_extension": ".py",
   "mimetype": "text/x-python",
   "name": "python",
   "nbconvert_exporter": "python",
   "pygments_lexer": "ipython3",
   "version": "3.8.8"
  }
 },
 "nbformat": 4,
 "nbformat_minor": 5
}

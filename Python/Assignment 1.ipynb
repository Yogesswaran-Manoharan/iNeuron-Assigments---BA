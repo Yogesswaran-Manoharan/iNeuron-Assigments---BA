{
 "cells": [
  {
   "cell_type": "code",
   "execution_count": 1,
   "id": "cf51e893",
   "metadata": {},
   "outputs": [
    {
     "name": "stdout",
     "output_type": "stream",
     "text": [
      "['1505', '1540', '1575', '1610', '1645', '1680', '1715', '1750', '1785', '1820', '1855', '1890', '1925', '1960', '1995', '2030', '2065', '2100', '2135', '2170', '2205', '2240', '2275', '2310', '2345', '2380', '2415', '2450', '2485', '2520', '2555', '2590', '2625', '2660', '2695']\n"
     ]
    }
   ],
   "source": [
    "# Q1 : Write a Python program to find those numbers which are divisible by 7\n",
    "# and multiple of 5, between 1500 and 2700 (both included).\n",
    "\n",
    "List = []\n",
    "for x in range(1500,2701):\n",
    "    if x%7 == 0 and x%5 == 0:\n",
    "        List.append(str(x))\n",
    "print(List)"
   ]
  },
  {
   "cell_type": "code",
   "execution_count": 2,
   "id": "c367c33e",
   "metadata": {},
   "outputs": [],
   "source": [
    "# Q2 : Python program to add two numbers\n",
    "\n",
    "def add_num(a,b):\n",
    "    return a+b"
   ]
  },
  {
   "cell_type": "code",
   "execution_count": 3,
   "id": "aa51c37c",
   "metadata": {},
   "outputs": [
    {
     "data": {
      "text/plain": [
       "66"
      ]
     },
     "execution_count": 3,
     "metadata": {},
     "output_type": "execute_result"
    }
   ],
   "source": [
    "add_num(10,56)"
   ]
  },
  {
   "cell_type": "code",
   "execution_count": 4,
   "id": "1564760e",
   "metadata": {},
   "outputs": [],
   "source": [
    "# Q3 : Maximum of two numbers in Python\n",
    "def Max_num(a,b):\n",
    "    return max(a,b)"
   ]
  },
  {
   "cell_type": "code",
   "execution_count": 5,
   "id": "105ce503",
   "metadata": {},
   "outputs": [
    {
     "data": {
      "text/plain": [
       "9"
      ]
     },
     "execution_count": 5,
     "metadata": {},
     "output_type": "execute_result"
    }
   ],
   "source": [
    "Max_num(5,9)"
   ]
  },
  {
   "cell_type": "code",
   "execution_count": 6,
   "id": "b5668415",
   "metadata": {},
   "outputs": [],
   "source": [
    "# Q4 : Python Program for factorial of a number\n",
    "def factorial(n):\n",
    "    if n == 0:\n",
    "        return 1\n",
    "    return n * factorial(n-1)"
   ]
  },
  {
   "cell_type": "code",
   "execution_count": 7,
   "id": "4f4e8bb8",
   "metadata": {},
   "outputs": [
    {
     "data": {
      "text/plain": [
       "5040"
      ]
     },
     "execution_count": 7,
     "metadata": {},
     "output_type": "execute_result"
    }
   ],
   "source": [
    "factorial(7)"
   ]
  },
  {
   "cell_type": "code",
   "execution_count": 8,
   "id": "da34d6c1",
   "metadata": {},
   "outputs": [],
   "source": [
    "# Q5 : Python Program for simple interest\n",
    "def simple_interest(P,R,T):\n",
    "    return (P*R*T)/100"
   ]
  },
  {
   "cell_type": "code",
   "execution_count": 9,
   "id": "fda9d518",
   "metadata": {},
   "outputs": [
    {
     "data": {
      "text/plain": [
       "1000.0"
      ]
     },
     "execution_count": 9,
     "metadata": {},
     "output_type": "execute_result"
    }
   ],
   "source": [
    "simple_interest(2000,10,5)"
   ]
  },
  {
   "cell_type": "code",
   "execution_count": 10,
   "id": "10670874",
   "metadata": {},
   "outputs": [],
   "source": [
    "# Q6 : Python Program for Compound interest\n",
    "def Compound_interest(P,R,T):\n",
    "    A = P*(pow((1+R/100),T))\n",
    "    CI = A-P\n",
    "    print('Compound interest : ',CI)"
   ]
  },
  {
   "cell_type": "code",
   "execution_count": 11,
   "id": "14a01a7d",
   "metadata": {},
   "outputs": [
    {
     "name": "stdout",
     "output_type": "stream",
     "text": [
      "Compound interest :  16476.228501434314\n"
     ]
    }
   ],
   "source": [
    "Compound_interest(25000,7.5,7)"
   ]
  },
  {
   "cell_type": "code",
   "execution_count": 12,
   "id": "d3c1d5f2",
   "metadata": {},
   "outputs": [
    {
     "name": "stdout",
     "output_type": "stream",
     "text": [
      "Enter a number: 153\n",
      "153 is an Armstrong number\n"
     ]
    }
   ],
   "source": [
    "# Q7 : Python Program to check Armstrong Number\n",
    "num = int(input(\"Enter a number: \"))\n",
    "sum = 0\n",
    "\n",
    "temp = num\n",
    "while temp > 0:\n",
    "   digit = temp % 10\n",
    "   sum += digit ** 3\n",
    "   temp //= 10\n",
    "\n",
    "if num == sum:\n",
    "   print(num,\"is an Armstrong number\")\n",
    "else:\n",
    "   print(num,\"is not an Armstrong number\")"
   ]
  },
  {
   "cell_type": "code",
   "execution_count": 13,
   "id": "80a0c551",
   "metadata": {},
   "outputs": [
    {
     "name": "stdout",
     "output_type": "stream",
     "text": [
      "Enter the radius: 5\n",
      "Area of circle :  78.5\n"
     ]
    }
   ],
   "source": [
    "# Q8 : Python Program for Program to find area of a circle\n",
    "num = int(input(\"Enter the radius: \"))\n",
    "r = 3.14*num**2\n",
    "print('Area of circle : ',r)"
   ]
  },
  {
   "cell_type": "code",
   "execution_count": 15,
   "id": "19b9b5bf",
   "metadata": {},
   "outputs": [],
   "source": [
    "# Q9 : Python program to print all Prime numbers in an Interval\n",
    "def primes(num):\n",
    "    prime =[]\n",
    "    for num in range(num):\n",
    "      # all prime numbers are greater than 1\n",
    "      if num > 1:\n",
    "        for i in range(2, num):\n",
    "            if (num % i) == 0:\n",
    "                 break\n",
    "        else:\n",
    "            prime.append(num)\n",
    "    print(str(prime) + '  ', end='')"
   ]
  },
  {
   "cell_type": "code",
   "execution_count": 16,
   "id": "a32a6610",
   "metadata": {},
   "outputs": [
    {
     "name": "stdout",
     "output_type": "stream",
     "text": [
      "[2, 3, 5, 7, 11, 13, 17, 19, 23, 29, 31, 37, 41, 43, 47, 53, 59, 61, 67, 71, 73, 79, 83, 89, 97]  "
     ]
    }
   ],
   "source": [
    "primes(100)"
   ]
  },
  {
   "cell_type": "code",
   "execution_count": 17,
   "id": "d4822238",
   "metadata": {},
   "outputs": [],
   "source": [
    "# Q10 : Python program to check whether a number is Prime or not\n",
    "def prime(num):\n",
    "    if num > 1:\n",
    "        for i in range(2,num):\n",
    "            if (num%i) == 0:\n",
    "                print (num,\"is not a prime number\")\n",
    "                break\n",
    "        else:\n",
    "            print(num,'is a prime number')"
   ]
  },
  {
   "cell_type": "code",
   "execution_count": 19,
   "id": "71283d42",
   "metadata": {},
   "outputs": [
    {
     "name": "stdout",
     "output_type": "stream",
     "text": [
      "11 is a prime number\n"
     ]
    }
   ],
   "source": [
    "prime(11)"
   ]
  },
  {
   "cell_type": "code",
   "execution_count": null,
   "id": "293f79ca",
   "metadata": {},
   "outputs": [],
   "source": []
  }
 ],
 "metadata": {
  "kernelspec": {
   "display_name": "Python 3",
   "language": "python",
   "name": "python3"
  },
  "language_info": {
   "codemirror_mode": {
    "name": "ipython",
    "version": 3
   },
   "file_extension": ".py",
   "mimetype": "text/x-python",
   "name": "python",
   "nbconvert_exporter": "python",
   "pygments_lexer": "ipython3",
   "version": "3.8.8"
  }
 },
 "nbformat": 4,
 "nbformat_minor": 5
}

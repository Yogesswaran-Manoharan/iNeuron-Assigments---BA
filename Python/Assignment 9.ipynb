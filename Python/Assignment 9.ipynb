{
 "cells": [
  {
   "cell_type": "markdown",
   "id": "5cc88596",
   "metadata": {},
   "source": [
    "# Assignment 9"
   ]
  },
  {
   "cell_type": "code",
   "execution_count": 2,
   "id": "62b6202e",
   "metadata": {},
   "outputs": [
    {
     "name": "stdout",
     "output_type": "stream",
     "text": [
      "Original :  Python is a cool language to learn\n",
      "Replaced :  k is a cool k to k\n"
     ]
    }
   ],
   "source": [
    "# Q1 Python – Replace multiple words with K\n",
    "\n",
    "#input\n",
    "x = 'Python is a cool language to learn'\n",
    "\n",
    "print('Original : ',x)\n",
    "\n",
    "#replace\n",
    "word_list = ['Python','language','learn']\n",
    "replace_word = 'k'\n",
    "\n",
    "rep_str = ' '.join([replace_word if i in word_list else i for i in x.split()])\n",
    "print('Replaced : ',rep_str)\n"
   ]
  },
  {
   "cell_type": "code",
   "execution_count": 6,
   "id": "e9325ce4",
   "metadata": {},
   "outputs": [
    {
     "name": "stdout",
     "output_type": "stream",
     "text": [
      "A B C\n",
      "A C B\n",
      "B A C\n",
      "B C A\n",
      "C A B\n",
      "C B A\n"
     ]
    }
   ],
   "source": [
    "# Q2 Python | Permutation of a given string using inbuilt function\n",
    "\n",
    "#import package\n",
    "from itertools import permutations\n",
    "\n",
    "def P_words(str):\n",
    "    P_list = permutations(str)\n",
    "    \n",
    "    for x in list(P_list):\n",
    "        print(' '.join(x))\n",
    "        \n",
    "str = 'ABC'\n",
    "P_words(str)"
   ]
  },
  {
   "cell_type": "code",
   "execution_count": 13,
   "id": "961db059",
   "metadata": {},
   "outputs": [
    {
     "name": "stdout",
     "output_type": "stream",
     "text": [
      "Urls:  ['https://auth.geeksforgeeks.org/user/Chinmoy%20Lenka/articles in the portal of https://www.geeksforgeeks.org/']\n"
     ]
    }
   ],
   "source": [
    "# Q3 Python | Check for URL in a String\n",
    "\n",
    "# Using regular expressions\n",
    "import re\n",
    "\n",
    "def find_url(string):\n",
    "    regex = 'http[s]?://(?:[a-zA-Z]|[0-9]|[$-_@.&+]|[!*\\(\\), ]|(?:%[0-9a-fA-F][0-9a-fA-F]))+'\n",
    "    url = re.findall(regex,string)\n",
    "    return url\n",
    "\n",
    "string = 'My Profile: https://auth.geeksforgeeks.org/user/Chinmoy%20Lenka/articles in the portal of https://www.geeksforgeeks.org/'\n",
    "print(\"Urls: \", find_url(string))"
   ]
  },
  {
   "cell_type": "code",
   "execution_count": 14,
   "id": "6e7911a4",
   "metadata": {},
   "outputs": [
    {
     "name": "stdout",
     "output_type": "stream",
     "text": [
      "120\n"
     ]
    }
   ],
   "source": [
    "# Q4 Execute a String of Code in Python\n",
    "\n",
    "Factorial = \"\"\"\n",
    "def factorial(num):\n",
    "    f = 1\n",
    "    for i in range(1,num+1):\n",
    "        f = f * i\n",
    "    return f\n",
    "\n",
    "print(factorial(5))\n",
    "\"\"\"\n",
    "\n",
    "exec(Factorial)"
   ]
  },
  {
   "cell_type": "code",
   "execution_count": 19,
   "id": "d62010b8",
   "metadata": {},
   "outputs": [
    {
     "name": "stdout",
     "output_type": "stream",
     "text": [
      "Left rotation :  antinotar\n",
      "Right rotation :  inotarant\n"
     ]
    }
   ],
   "source": [
    "# Q5 String slicing in Python to rotate a string\n",
    "\n",
    "def rotate(i,d):\n",
    "    Lfirst = i[0:d]\n",
    "    Lsecond = i[d:]\n",
    "    Rfirst = i[0:len(i)-d]\n",
    "    Rsecond = i[len(i)-d:]\n",
    "    \n",
    "    print('Left rotation : ',Lsecond + Lfirst)\n",
    "    print('Right rotation : ',Rsecond + Rfirst)\n",
    "    \n",
    "if __name__ == \"__main__\":\n",
    "    i = 'tarantino'\n",
    "    d = 3    \n",
    "    rotate(i,d)"
   ]
  },
  {
   "cell_type": "code",
   "execution_count": 3,
   "id": "67a90ef2",
   "metadata": {},
   "outputs": [
    {
     "name": "stdout",
     "output_type": "stream",
     "text": [
      "True\n"
     ]
    }
   ],
   "source": [
    "# Q6 String slicing in Python to check if a string can become empty by recursive deletion\n",
    "\n",
    "def check_empty(str,substr):\n",
    "    \n",
    "    # if both are empty\n",
    "    if len(str)==0 and len(substr)==0:\n",
    "        return 'True'\n",
    "    # if only pattern is empty\n",
    "    if len(substr) == 0:\n",
    "        return 'True'\n",
    "    \n",
    "    while (len(str) != 0):\n",
    "    \n",
    "        #find substr in str\n",
    "        index = str.find(substr)\n",
    "        \n",
    "        # check substr\n",
    "        if (index == -1):\n",
    "            return 'False'\n",
    "        \n",
    "        #slice\n",
    "        str = str[0:index] + str[index + len(substr):]\n",
    "    return 'True'\n",
    "\n",
    "# Driver program \n",
    "if __name__ == \"__main__\": \n",
    "    str ='GEEGEEKSKS'\n",
    "    substr ='GEEKS'\n",
    "    print (check_empty(str, substr))"
   ]
  },
  {
   "cell_type": "code",
   "execution_count": 22,
   "id": "c1dd7c07",
   "metadata": {},
   "outputs": [
    {
     "name": "stdout",
     "output_type": "stream",
     "text": [
      "['t', 'e', 'r', 'l']\n"
     ]
    }
   ],
   "source": [
    "# Q7 Python Counter| Find all duplicate characters in string\n",
    "\n",
    "from collections import Counter\n",
    "  \n",
    "def find_dup(string):\n",
    "    x = Counter(string)\n",
    "    return [k for k,v in x.items() if v>1]\n",
    "\n",
    "print(find_dup('Interstellar'))"
   ]
  },
  {
   "cell_type": "code",
   "execution_count": 24,
   "id": "bba901ce",
   "metadata": {},
   "outputs": [
    {
     "name": "stdout",
     "output_type": "stream",
     "text": [
      "Replaced string : Betty bought a bit of butter but the butter Betty bought was bitter\n",
      "Replaced string :  Betty bought a bit of cheese but the cheese Betty bought was bitter\n"
     ]
    }
   ],
   "source": [
    "# Q8 Python – Replace all occurrences of a substring in a string\n",
    "\n",
    "string = 'Betty bought a bit of butter but the butter Betty bought was bitter'\n",
    "\n",
    "print('Replaced string :', string)\n",
    "x = string.replace('butter','cheese')\n",
    "\n",
    "print('Replaced string : ', x)"
   ]
  },
  {
   "cell_type": "code",
   "execution_count": 27,
   "id": "7e3bc833",
   "metadata": {},
   "outputs": [
    {
     "name": "stdout",
     "output_type": "stream",
     "text": [
      "Dictionary:\n",
      " {'One': [1, 2, 3, 3, 4], 'Two': [1, 5, 6, 3, 2], 'Three': [3, 4, 7, 8]}\n",
      "The unique values from dic are : [1, 2, 3, 4, 5, 6, 7, 8]\n"
     ]
    }
   ],
   "source": [
    "# Q9 Python – Extract Unique values dictionary values\n",
    "\n",
    "dict = {'One':[1,2,3,3,4],'Two':[1,5,6,3,2],'Three':[3,4,7,8]}\n",
    "\n",
    "print('Dictionary:\\n',dict)\n",
    "\n",
    "unique_v = list(sorted({i for v in dict.values() for i in v}))\n",
    "\n",
    "print('The unique values from dic are :',unique_v)"
   ]
  },
  {
   "cell_type": "code",
   "execution_count": 31,
   "id": "3b2fc44e",
   "metadata": {},
   "outputs": [
    {
     "name": "stdout",
     "output_type": "stream",
     "text": [
      "Sum of dictionary =  14\n"
     ]
    }
   ],
   "source": [
    "# Q10 Python program to find the sum of all items in a dictionary\n",
    "\n",
    "def sum_dict(mydict):\n",
    "    Sum = 0\n",
    "    for i in mydict:\n",
    "        Sum = Sum + mydict[i]\n",
    "    return Sum\n",
    "\n",
    "dict = {'T': 1, 'U':2, 'T':3, 'O':4, 'R':5}\n",
    "print('Sum of dictionary = ',sum_dict(dict))"
   ]
  }
 ],
 "metadata": {
  "kernelspec": {
   "display_name": "Python 3",
   "language": "python",
   "name": "python3"
  },
  "language_info": {
   "codemirror_mode": {
    "name": "ipython",
    "version": 3
   },
   "file_extension": ".py",
   "mimetype": "text/x-python",
   "name": "python",
   "nbconvert_exporter": "python",
   "pygments_lexer": "ipython3",
   "version": "3.8.8"
  }
 },
 "nbformat": 4,
 "nbformat_minor": 5
}

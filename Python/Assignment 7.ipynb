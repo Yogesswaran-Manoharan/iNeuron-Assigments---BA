{
 "cells": [
  {
   "cell_type": "markdown",
   "id": "6488dde3",
   "metadata": {},
   "source": [
    "# Assignment 7 "
   ]
  },
  {
   "cell_type": "code",
   "execution_count": 7,
   "id": "4b22c5e1",
   "metadata": {},
   "outputs": [
    {
     "name": "stdout",
     "output_type": "stream",
     "text": [
      "The reversed string line : movie to going am I\n"
     ]
    }
   ],
   "source": [
    "# Q1 Reverse words in a given String in Python\n",
    "\n",
    "def reverse_string(n):\n",
    "    x = n.split(' ')\n",
    "    y = ' '.join(reversed(x))\n",
    "    print('The reversed string line :',y)\n",
    "\n",
    "reverse_string('I am going to movie')"
   ]
  },
  {
   "cell_type": "code",
   "execution_count": 13,
   "id": "4929ad4b",
   "metadata": {},
   "outputs": [
    {
     "name": "stdout",
     "output_type": "stream",
     "text": [
      "Type 1  Lets go to beach today\n",
      "Type 2  Lets go to beach today\n",
      "Type 3  Where are we going ?\n"
     ]
    }
   ],
   "source": [
    "# Q2 Ways to remove i’th character from string in Python\n",
    "\n",
    "# Using replace \n",
    "old = 'Let%s g%o t%o %beach today'\n",
    "new = old.replace('%','')\n",
    "print('Type 1 ',new)\n",
    "\n",
    "# Using translate\n",
    "old = 'Let%s g%o t%o %beach today'\n",
    "new = old.translate({ord('%'):None})\n",
    "print('Type 2 ',new)\n",
    "\n",
    "# Using replace to remove only required number of characters\n",
    "old = 'Where are w?e going ?'\n",
    "new = old.replace('?','',1)\n",
    "print('Type 3 ',new)"
   ]
  },
  {
   "cell_type": "code",
   "execution_count": 24,
   "id": "3bc2f3f6",
   "metadata": {},
   "outputs": [
    {
     "name": "stdout",
     "output_type": "stream",
     "text": [
      "St1 is present in st\n",
      "True\n",
      "Yes\n"
     ]
    }
   ],
   "source": [
    "# Q3 Python | Check if a Substring is Present in a Given String\n",
    "\n",
    "# Using operator\n",
    "st = 'We are planning for a trip to Africa'\n",
    "st1 = 'Africa'\n",
    "\n",
    "if st1 in st:\n",
    "    print('St1 is present in st')\n",
    "else:\n",
    "    print('St1 is not present in st')\n",
    "\n",
    "# Using find()\n",
    "x = st.find(st1)\n",
    "if x>= 0:\n",
    "    print(True)\n",
    "else:\n",
    "    print(False)\n",
    "\n",
    "# Using contains()\n",
    "import operator\n",
    "\n",
    "if operator.contains(st,st1):\n",
    "    print('Yes')\n",
    "else:\n",
    "    print('No')"
   ]
  },
  {
   "cell_type": "code",
   "execution_count": 33,
   "id": "ca81268e",
   "metadata": {},
   "outputs": [
    {
     "name": "stdout",
     "output_type": "stream",
     "text": [
      "{'is': 3, 'this': 1, 'what': 1, 'it': 1, 'used': 1, 'for': 1, '?': 1}\n",
      "Counter({'is': 2, 'this': 1, 'what': 1, 'it': 1, 'used': 1, 'for': 1, '?': 1})\n"
     ]
    }
   ],
   "source": [
    "# Q4 Python – Words Frequency in String Shorthands\n",
    "\n",
    "# Using dictionary comprehension\n",
    "x = 'is this what it is used for ?'\n",
    "word = {key: x.count(key) for key in x.split()}\n",
    "print(word)\n",
    "\n",
    "# Using counter and spilt\n",
    "from collections import Counter\n",
    "x = 'is this what it is used for ?'\n",
    "word = Counter(x.split())\n",
    "print(word)"
   ]
  },
  {
   "cell_type": "code",
   "execution_count": 42,
   "id": "bbeb08a1",
   "metadata": {},
   "outputs": [
    {
     "name": "stdout",
     "output_type": "stream",
     "text": [
      "Snake case: this_is_a_new_case\n",
      "Pascal case: This Is A New Case\n",
      "Pascal case 2: This Is A New Case\n"
     ]
    }
   ],
   "source": [
    "# Q5 Python – Convert Snake case to Pascal case\n",
    "\n",
    "# Using capwords from string\n",
    "from string import capwords\n",
    "x = 'this_is_a_new_case'\n",
    "print('Snake case:', x)\n",
    "x = capwords(x.replace('_',' '))\n",
    "print('Pascal case:', x)\n",
    "\n",
    "# title() replace()\n",
    "y = x.replace('_',' ').title()\n",
    "print('Pascal case 2:', x)"
   ]
  },
  {
   "cell_type": "code",
   "execution_count": 5,
   "id": "2b25af85",
   "metadata": {},
   "outputs": [
    {
     "name": "stdout",
     "output_type": "stream",
     "text": [
      "Using len:  9\n",
      "Using for loop:  9\n",
      "Using while loop and slicing:  9\n",
      "Using join and count:  9\n"
     ]
    }
   ],
   "source": [
    "# Q6 Find length of a string in python (4 ways)\n",
    "\n",
    "St = 'Hackathon'\n",
    "#Method 1\n",
    "print('Using len: ',len(St))\n",
    "# Mehtod 2\n",
    "def findlen(St):\n",
    "    c = 0\n",
    "    for i in St :\n",
    "        c = c + 1\n",
    "    return c\n",
    "print('Using for loop: ',findlen(St))\n",
    "\n",
    "# Method 3\n",
    "def find(St):\n",
    "    c = 0\n",
    "    while St[c:]:\n",
    "        c = c+1\n",
    "    return c\n",
    "print('Using while loop and slicing: ',find(St))\n",
    "\n",
    "# Method 4\n",
    "def fin(St):\n",
    "    if not St:\n",
    "        return 0\n",
    "    else:\n",
    "        rand_st = 'p'\n",
    "        return ((rand_st).join(St)).count(rand_st) + 1\n",
    "print('Using join and count: ',fin(St))"
   ]
  },
  {
   "cell_type": "code",
   "execution_count": 8,
   "id": "482593bb",
   "metadata": {},
   "outputs": [
    {
     "name": "stdout",
     "output_type": "stream",
     "text": [
      "interstellar\n",
      "is\n",
      "on\n",
      "theatres\n"
     ]
    }
   ],
   "source": [
    "# Q7 Python program to print even length words in a string\n",
    "\n",
    "    St = 'interstellar is on the theatres now'\n",
    "\n",
    "def find_even(s):\n",
    "    # split\n",
    "    s = s.split(' ')\n",
    "    for i in s:\n",
    "        if len(i)%2 == 0:\n",
    "            print(i)\n",
    "find_even(St)"
   ]
  },
  {
   "cell_type": "code",
   "execution_count": 15,
   "id": "6f1b446f",
   "metadata": {},
   "outputs": [
    {
     "name": "stdout",
     "output_type": "stream",
     "text": [
      "Accepted\n",
      "Accepted\n"
     ]
    }
   ],
   "source": [
    "# Q8 Python program to accept the strings which contains all vowels\n",
    "\n",
    "st = 'aeiou'\n",
    "\n",
    "def check(st):\n",
    "    st = st.lower()\n",
    "    # get vowels \n",
    "    vowels = set('aeiou')\n",
    "    s = set({})\n",
    "    \n",
    "    for char in st:\n",
    "        if char in vowels:\n",
    "            s.add(char)\n",
    "        else:\n",
    "            pass\n",
    "        \n",
    "    if len(s) == len(vowels):\n",
    "        print('Accepted')\n",
    "    else:\n",
    "        print('Not accepted')\n",
    "        \n",
    "check(st)\n",
    "\n",
    "# Using Regex\n",
    "\n",
    "import re\n",
    "\n",
    "SI = \"aeioAEiuioea\"\n",
    "\n",
    "x = re.compile('[^aeiouAEIOU]')\n",
    "\n",
    "if (len(x.findall(SI))):\n",
    "    print('Not accepted')\n",
    "else:\n",
    "    print('Accepted')\n"
   ]
  },
  {
   "cell_type": "code",
   "execution_count": 16,
   "id": "e8775f9c",
   "metadata": {},
   "outputs": [
    {
     "name": "stdout",
     "output_type": "stream",
     "text": [
      "No of matching char are :  6\n"
     ]
    }
   ],
   "source": [
    "# Q9 Python | Count the Number of matching characters in a pair of string\n",
    "\n",
    "x = 'abccddega'\n",
    "y = 'abrfgescd'\n",
    "\n",
    "def count(s1,s2):\n",
    "    c,j = 0,0\n",
    "    for i in s1:\n",
    "        if s2.find(i)>=0 and j == s1.find(i):\n",
    "            c= c+1\n",
    "        j = j+1\n",
    "    print('No of matching char are : ',c)\n",
    "    \n",
    "count(x,y)"
   ]
  },
  {
   "cell_type": "code",
   "execution_count": 21,
   "id": "5d16d1e3",
   "metadata": {},
   "outputs": [
    {
     "name": "stdout",
     "output_type": "stream",
     "text": [
      "Without order : lstneria\n",
      "With Order :  intersla\n"
     ]
    }
   ],
   "source": [
    "# Q10 Remove all duplicates from a given string in Python\n",
    "def removedup(x):\n",
    "    s = set(x)\n",
    "    s = \"\".join(s)\n",
    "    print('Without order :',s)\n",
    "    t = ''\n",
    "    for i in x:\n",
    "        if (i in t):\n",
    "            pass\n",
    "        else:\n",
    "            t =t+i\n",
    "    print('With Order : ',t)\n",
    "        \n",
    "x = 'interstellar'\n",
    "removedup(x)"
   ]
  },
  {
   "cell_type": "code",
   "execution_count": null,
   "id": "97e748df",
   "metadata": {},
   "outputs": [],
   "source": []
  }
 ],
 "metadata": {
  "kernelspec": {
   "display_name": "Python 3",
   "language": "python",
   "name": "python3"
  },
  "language_info": {
   "codemirror_mode": {
    "name": "ipython",
    "version": 3
   },
   "file_extension": ".py",
   "mimetype": "text/x-python",
   "name": "python",
   "nbconvert_exporter": "python",
   "pygments_lexer": "ipython3",
   "version": "3.8.8"
  }
 },
 "nbformat": 4,
 "nbformat_minor": 5
}

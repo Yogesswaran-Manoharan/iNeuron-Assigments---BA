{
 "cells": [
  {
   "cell_type": "markdown",
   "id": "fd7077f1",
   "metadata": {},
   "source": [
    "# Assignment 8"
   ]
  },
  {
   "cell_type": "code",
   "execution_count": 1,
   "id": "ba539192",
   "metadata": {},
   "outputs": [
    {
     "name": "stdout",
     "output_type": "stream",
     "text": [
      "Original string :  Interstellar\n",
      "The minimum of all characters in given string is  I\n"
     ]
    }
   ],
   "source": [
    "# Q1 Python – Least Frequent Character in String\n",
    "\n",
    "#input \n",
    "x = 'Interstellar'\n",
    "\n",
    "print('Original string : ',x)\n",
    "\n",
    "freq = {}\n",
    "for i in x:\n",
    "    if i in freq:\n",
    "        freq[i] += 1\n",
    "    else:\n",
    "        freq[i] = 1\n",
    "\n",
    "y = min(freq, key = freq.get)\n",
    "\n",
    "print('The minimum of all characters in given string is ',y)"
   ]
  },
  {
   "cell_type": "code",
   "execution_count": 6,
   "id": "7fdf7af7",
   "metadata": {},
   "outputs": [
    {
     "name": "stdout",
     "output_type": "stream",
     "text": [
      "Original string :  parallelogram\n",
      "The maximum of all characters in given string is  a\n"
     ]
    }
   ],
   "source": [
    "# Q2 Python | Maximum frequency character in String\n",
    "\n",
    "#using counter\n",
    "from collections import Counter\n",
    "\n",
    "x = 'parallelogram'\n",
    "\n",
    "print('Original string : ',x)\n",
    "\n",
    "freq = Counter(x)\n",
    "y = max(freq, key = freq.get)\n",
    "\n",
    "print('The maximum of all characters in given string is ',y)"
   ]
  },
  {
   "cell_type": "code",
   "execution_count": 9,
   "id": "3eed1262",
   "metadata": {},
   "outputs": [
    {
     "name": "stdout",
     "output_type": "stream",
     "text": [
      "The string contain special characters\n"
     ]
    }
   ],
   "source": [
    "# Q3 Python | Program to check if a string contains any special character\n",
    "\n",
    "# import packge - Regular Expressions\n",
    "\n",
    "import re\n",
    "\n",
    "x = 'ram268@gamil.com'\n",
    "\n",
    "sp_char = re.compile('[@_!#$%^&*()<>?/\\|}{~:]')\n",
    "\n",
    "if sp_char.search(x) == None:\n",
    "    print('The string does not contain any special characters')\n",
    "else:\n",
    "    print('The string contain special characters')"
   ]
  },
  {
   "cell_type": "code",
   "execution_count": 14,
   "id": "3d87d02b",
   "metadata": {},
   "outputs": [
    {
     "name": "stdout",
     "output_type": "stream",
     "text": [
      "m,Z4\n",
      "wVD.\n",
      "KbnD\n",
      "Fl:N\n",
      "pdHo\n",
      ",o5e\n",
      "JMIU\n",
      "0bcB\n",
      "3Yu3\n",
      "Zqg0\n",
      "f .H\n",
      "UK4K\n",
      "vciZ\n",
      "DZ95\n",
      "CGTJ\n",
      "M1Wj\n",
      "uaY6\n",
      "!Tek\n",
      "332I\n",
      "EcQR\n",
      "dHcU\n",
      "SeGm\n",
      "KenG\n",
      "SeSp\n",
      "eesU\n",
      "ResJ\n",
      "Mesr\n",
      "yesw\n",
      "gesa\n",
      "JesI\n",
      "CesA\n",
      "qesI\n",
      "Gess\n",
      "wes6\n",
      "HesM\n",
      "qese\n",
      "gesL\n",
      "Kes?\n",
      "ves0\n",
      "mes3\n",
      "9es2\n",
      "fes \n",
      "LesK\n",
      "ces;\n",
      "tes5\n",
      "tesu\n",
      "tesG\n",
      "test\n",
      "Target matched after  48  iterations\n"
     ]
    }
   ],
   "source": [
    "# Q4 Generating random strings until a given string is generated\n",
    "\n",
    "# generate random strings\n",
    "import string\n",
    "import random\n",
    "import time\n",
    "  \n",
    "# all possible characters including lowercase, uppercase and punctuations\n",
    "possibleChar = string.ascii_lowercase + string.digits + string.ascii_uppercase + ' ., !?;:'\n",
    "  \n",
    "# string to be generated\n",
    "t = \"test\"\n",
    "  \n",
    "attemptThis = ''.join(random.choice(possibleChar) for i in range(len(t)))\n",
    "attemptNext = ''\n",
    "  \n",
    "done= False\n",
    "iteration = 0\n",
    "  \n",
    "# Iterate while done is false\n",
    "while done == False:\n",
    "    print(attemptThis)\n",
    "      \n",
    "    attemptNext = ''\n",
    "    done = True\n",
    "      \n",
    "    # if matches with string \n",
    "    # change index\n",
    "    for i in range(len(t)):\n",
    "        if attemptThis[i] != t[i]:\n",
    "            done = False\n",
    "            attemptNext += random.choice(possibleChar)\n",
    "        else:\n",
    "            attemptNext += t[i]\n",
    "              \n",
    "    # increase iteration\n",
    "    iteration = iteration + 1\n",
    "    attemptThis = attemptNext\n",
    "    time.sleep(0.1)\n",
    "\n",
    "print(\"Target matched after \",iteration,\" iterations\")"
   ]
  },
  {
   "cell_type": "code",
   "execution_count": 15,
   "id": "bd88234f",
   "metadata": {},
   "outputs": [
    {
     "name": "stdout",
     "output_type": "stream",
     "text": [
      "['Python', 'good', 'language']\n"
     ]
    }
   ],
   "source": [
    "# Q5 Find words which are greater than given length k\n",
    "\n",
    "def word_f(k,s):\n",
    "    string = []\n",
    "    t = s.split(\" \")\n",
    "    for i in t:\n",
    "        if len(i)>k:\n",
    "            string.append(i)\n",
    "    return string\n",
    "\n",
    "k = 3\n",
    "s = \"Python is a good language\"\n",
    "print(word_f(k,s))"
   ]
  },
  {
   "cell_type": "code",
   "execution_count": 5,
   "id": "e91cb3a1",
   "metadata": {},
   "outputs": [
    {
     "name": "stdout",
     "output_type": "stream",
     "text": [
      "Original string : Schinder's List\n",
      "String after removal of ith character method 1: Scinder's List\n",
      "String after removal of ith character method 2: Schnder's List\n"
     ]
    }
   ],
   "source": [
    "# Q6 Python program for removing i-th character from a string\n",
    "\n",
    "x = \"Schinder's List\"\n",
    "\n",
    "print('Original string :',x)\n",
    "\n",
    "new_str = ''\n",
    "for i in range(len(x)):\n",
    "    if i != 2:\n",
    "        new_str = new_str + x[i]\n",
    "\n",
    "print('String after removal of ith character method 1:',new_str)\n",
    "\n",
    "new_str1 = ''.join([x[i] for i in range(len(x)) if  i != 3])\n",
    "\n",
    "print('String after removal of ith character method 2:',new_str1)"
   ]
  },
  {
   "cell_type": "code",
   "execution_count": 6,
   "id": "ee41edc4",
   "metadata": {},
   "outputs": [
    {
     "name": "stdout",
     "output_type": "stream",
     "text": [
      "After splitting :  ['I', 'am', 'learning', 'Python']\n",
      "After rejoining :  I-am-learning-Python\n"
     ]
    }
   ],
   "source": [
    "# Q7 Python program to split and join a string\n",
    "\n",
    "#program to split string\n",
    "def split_string(string):\n",
    "    list_str = string.split(' ')\n",
    "    return list_str\n",
    "\n",
    "def join_string(list_str):\n",
    "    string = '-'.join(list_str)\n",
    "    return(string)\n",
    "\n",
    "string = 'I am learning Python'\n",
    "\n",
    "list_str = split_string(string)\n",
    "print('After splitting : ', list_str)\n",
    "\n",
    "New_str = join_string(list_str)\n",
    "print('After rejoining : ',New_str)"
   ]
  },
  {
   "cell_type": "code",
   "execution_count": 12,
   "id": "53426f8e",
   "metadata": {},
   "outputs": [
    {
     "name": "stdout",
     "output_type": "stream",
     "text": [
      "Binary string\n",
      "Not a Binary string\n"
     ]
    }
   ],
   "source": [
    "# Q8 Python | Check if a given string is binary string or not\n",
    "\n",
    "def check(string):\n",
    "    b = set(string)\n",
    "    a = {'0','1'}\n",
    "    if a == b or b == {'0'} or b == {'1'}:\n",
    "        print(\"Binary string\")\n",
    "    else:\n",
    "        print(\"Not a Binary string\")\n",
    "        \n",
    "x = \"0100100\"\n",
    "check(x)\n",
    "\n",
    "y = \"021929\"\n",
    "check(y)"
   ]
  },
  {
   "cell_type": "code",
   "execution_count": 14,
   "id": "3ec95652",
   "metadata": {},
   "outputs": [
    {
     "name": "stdout",
     "output_type": "stream",
     "text": [
      "uncommon words from both sentences are ['i', 'am', 'went', 'to', 'was', 'cool']\n"
     ]
    }
   ],
   "source": [
    "# Q9 Python program to find uncommon words from two Strings\n",
    "\n",
    "def uc_words(a,b):\n",
    "    count ={}\n",
    "    for word in a.split():\n",
    "        count[word] = count.get(word,0) + 1\n",
    "    for word in b.split():\n",
    "        count[word] = count.get(word,0) + 1\n",
    "    return [word for word in count if count[word] == 1]\n",
    "\n",
    "a = 'i am went to the movie'\n",
    "b = 'the movie was cool'\n",
    "\n",
    "print('uncommon words from both sentences are', uc_words(a,b))"
   ]
  },
  {
   "cell_type": "code",
   "execution_count": 23,
   "id": "f0ddc5e0",
   "metadata": {},
   "outputs": [
    {
     "name": "stdout",
     "output_type": "stream",
     "text": [
      "The original string is : Rahul likes Math. Rahul is good in Math , Math is her favourite subject.\n",
      "The string after replacing : Rahul likes Math. He is good in Math , that is her favourite subject.\n"
     ]
    }
   ],
   "source": [
    "# Q 10 Python – Replace duplicate Occurrence in String\n",
    "\n",
    "test_string = 'Rahul likes Math. Rahul is good in Math , Math is her favourite subject.'\n",
    "  \n",
    "print(\"The original string is : \" + str(test_string))\n",
    "replace_dict = {'Rahul' :  'He', 'Math' : 'that' }\n",
    "\n",
    "test_list = test_string.split(' ')\n",
    "r = set()\n",
    "for i, el in enumerate(test_list):\n",
    "    if el in replace_dict:\n",
    "        if el in r:\n",
    "            test_list[i] = replace_dict[el]\n",
    "        else:\n",
    "            r.add(el)\n",
    "r = ' '.join(test_list)\n",
    "  \n",
    "# printing result \n",
    "print(\"The string after replacing : \" + str(r)) "
   ]
  },
  {
   "cell_type": "code",
   "execution_count": null,
   "id": "2d3fbe2c",
   "metadata": {},
   "outputs": [],
   "source": []
  }
 ],
 "metadata": {
  "kernelspec": {
   "display_name": "Python 3",
   "language": "python",
   "name": "python3"
  },
  "language_info": {
   "codemirror_mode": {
    "name": "ipython",
    "version": 3
   },
   "file_extension": ".py",
   "mimetype": "text/x-python",
   "name": "python",
   "nbconvert_exporter": "python",
   "pygments_lexer": "ipython3",
   "version": "3.8.8"
  }
 },
 "nbformat": 4,
 "nbformat_minor": 5
}

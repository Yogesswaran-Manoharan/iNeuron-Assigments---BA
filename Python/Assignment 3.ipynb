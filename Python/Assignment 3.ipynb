{
 "cells": [
  {
   "cell_type": "markdown",
   "id": "8dfec2d9",
   "metadata": {},
   "source": [
    "#  Assignment 3"
   ]
  },
  {
   "cell_type": "code",
   "execution_count": 8,
   "id": "4d43f7ea",
   "metadata": {},
   "outputs": [
    {
     "name": "stdout",
     "output_type": "stream",
     "text": [
      "4\n"
     ]
    }
   ],
   "source": [
    "# Q1 Python Program to Find reminder of array multiplication divided by n\n",
    "\n",
    "def find_reminder(arr,leng,n):\n",
    "    x = 1\n",
    "    \n",
    "    for i in range(leng):\n",
    "        x = (x*(arr[i]%n))%n\n",
    "    return x % n\n",
    "\n",
    "\n",
    "arr = [99,10,5,26,2,132]\n",
    "leng =len(arr)\n",
    "n = 7\n",
    "\n",
    "print(find_reminder(arr,leng,n))"
   ]
  },
  {
   "cell_type": "code",
   "execution_count": 34,
   "id": "eab38710",
   "metadata": {},
   "outputs": [
    {
     "name": "stdout",
     "output_type": "stream",
     "text": [
      "Enter the size of the array : 3\n",
      "Enter value for position 0 : 12\n",
      "Enter value for position 1 : 15\n",
      "Enter value for position 2 : 19\n",
      "Input array is monotone increasing\n"
     ]
    }
   ],
   "source": [
    "# Q2 Python Program to check if given array is Monotonic\n",
    "\n",
    "#1\n",
    "user_array = list()\n",
    "\n",
    "#2\n",
    "def is_monotonic(arr):\n",
    "    #3\n",
    "    if all(arr[i] <= arr[i + 1] \n",
    "        for i in range(len(arr) - 1)): \n",
    "            return \"monotone increasing\" \n",
    "    elif all(arr[i] >= arr[i + 1] \n",
    "        for i in range(len(arr) - 1)):\n",
    "            return \"monotone decreasing\"\n",
    "    return \"not monotonic array\"\n",
    "\n",
    "#4\n",
    "size = int(input(\"Enter the size of the array : \"))\n",
    "\n",
    "#5\n",
    "for i in range(size):\n",
    "    n = int(input(\"Enter value for position {} : \".format(i)))\n",
    "    user_array.append(n)\n",
    "\n",
    "#6\n",
    "print(\"Input array is \"+is_monotonic(user_array))\n"
   ]
  },
  {
   "cell_type": "code",
   "execution_count": 36,
   "id": "59134b6c",
   "metadata": {},
   "outputs": [
    {
     "name": "stdout",
     "output_type": "stream",
     "text": [
      "Enter number of elements in the list: 5\n",
      "Enter list element 1: 1\n",
      "Enter list element 2: 2\n",
      "Enter list element 3: 3\n",
      "Enter list element 4: 1\n",
      "Enter list element 5: 5\n",
      "List: [1, 2, 3, 1, 5]\n",
      "Swapped List: [5, 2, 3, 1, 1]\n"
     ]
    }
   ],
   "source": [
    "# Q3 Python program to interchange first and last elements in a list\n",
    "\n",
    "new = []\n",
    "n = int(input(\"Enter number of elements in the list: \" ))\n",
    "for i in range(0, n):\n",
    "   ele = int(input(\"Enter list element \" + str(i+1) + \": \" ))\n",
    "   new.append(ele)\n",
    "print(\"List:\", new)\n",
    "\n",
    "# swap elements\n",
    "temp = new[0]\n",
    "new[0] = new[n-1]\n",
    "new[n-1] = temp\n",
    "\n",
    "# print new list\n",
    "print(\"Swapped List:\", new)"
   ]
  },
  {
   "cell_type": "code",
   "execution_count": 38,
   "id": "5e022a90",
   "metadata": {},
   "outputs": [
    {
     "name": "stdout",
     "output_type": "stream",
     "text": [
      "How many elements in list :- 6\n",
      "Please enter the Value of 1 Element :- 1\n",
      "Please enter the Value of 2 Element :- 2\n",
      "Please enter the Value of 3 Element :- 3\n",
      "Please enter the Value of 4 Element :- 4\n",
      "Please enter the Value of 5 Element :- 5\n",
      "Please enter the Value of 6 Element :- 6\n",
      "\n",
      "List before swapping of elements :-\n",
      " [1, 2, 3, 4, 5, 6]\n",
      "Enter the position 1 of element, which you want to swap :- 5\n",
      "Enter the position 1 of element, which you want to swap :- 2\n",
      "List after swapping of elements :-\n",
      " [1, 5, 3, 4, 2, 6]\n"
     ]
    }
   ],
   "source": [
    "# Q4 Python program to swap two elements in a list\n",
    "    \n",
    "NumList = []\n",
    " \n",
    "#how many elements in list\n",
    "Number = int(input(\"How many elements in list :- \"))\n",
    "     \n",
    "for i in range(1, Number + 1):\n",
    "    value = int(input(\"Please enter the Value of %d Element :- \" %i))\n",
    "    NumList.append(value)\n",
    " \n",
    "#print list before swapping\n",
    "print(\"\\nList before swapping of elements :-\\n\",NumList)\n",
    " \n",
    "#take position to swap\n",
    "position1 = int(input(\"Enter the position 1 of element, which you want to swap :- \"))\n",
    "position2 = int(input(\"Enter the position 1 of element, which you want to swap :- \"))\n",
    " \n",
    "# Swap function \n",
    "def swapPositions(list, pos1, pos2): \n",
    "       \n",
    "    list[pos1], list[pos2] = list[pos2], list[pos1] \n",
    "    return list\n",
    "   \n",
    "print(\"List after swapping of elements :-\\n\",swapPositions(NumList, position1-1, position2-1)) "
   ]
  },
  {
   "cell_type": "code",
   "execution_count": 39,
   "id": "330c3a47",
   "metadata": {},
   "outputs": [
    {
     "name": "stdout",
     "output_type": "stream",
     "text": [
      "Length of the list = 6\n"
     ]
    }
   ],
   "source": [
    "# Q5 write a program to find length of list\n",
    "\n",
    "List =[2,4,7,9,3,5]\n",
    "\n",
    "print(\"Length of the list =\",len(List))"
   ]
  },
  {
   "cell_type": "code",
   "execution_count": 44,
   "id": "eb3e1964",
   "metadata": {},
   "outputs": [
    {
     "name": "stdout",
     "output_type": "stream",
     "text": [
      "True\n"
     ]
    }
   ],
   "source": [
    "# Q6 write a program to check if element exists in list\n",
    "\n",
    "L1 = [2,5,12,45,61,43,58]\n",
    "\n",
    "def check(a):\n",
    "    if a in L1:\n",
    "        return True\n",
    "    else:\n",
    "        return False\n",
    "    \n",
    "print(check(45))"
   ]
  },
  {
   "cell_type": "code",
   "execution_count": 47,
   "id": "d9ab971f",
   "metadata": {},
   "outputs": [
    {
     "name": "stdout",
     "output_type": "stream",
     "text": [
      "[]\n"
     ]
    }
   ],
   "source": [
    "# Q7 write a program to clear a list in Python\n",
    "\n",
    "L1 = [0.3,0.7,1.5,3.4]\n",
    "\n",
    "def clear(a):\n",
    "    if a in L1:\n",
    "        L1.clear()\n",
    "\n",
    "clear(0.3)\n",
    "print(L1)"
   ]
  },
  {
   "cell_type": "code",
   "execution_count": 51,
   "id": "20d79497",
   "metadata": {},
   "outputs": [
    {
     "name": "stdout",
     "output_type": "stream",
     "text": [
      "[5, 4, 3, 2, 1]\n"
     ]
    }
   ],
   "source": [
    "# Q8 write a program to Reversing a List\n",
    "\n",
    "List = [1,2,3,4,5]\n",
    "\n",
    "print(List[::-1])"
   ]
  },
  {
   "cell_type": "code",
   "execution_count": 54,
   "id": "bfafac7c",
   "metadata": {},
   "outputs": [
    {
     "name": "stdout",
     "output_type": "stream",
     "text": [
      "Sum of elements in position 1 and 3 is  6\n"
     ]
    }
   ],
   "source": [
    "# Q9 write a program to find sum of elements in list\n",
    "\n",
    "List = [1,2,3,4,5]\n",
    "\n",
    "def sum_of(a,b):\n",
    "    Value = List[a]+ List[b]\n",
    "    print('Sum of elements in position {} and {}'.format(a,b),'is ',Value)\n",
    "\n",
    "sum_of(1,3)"
   ]
  },
  {
   "cell_type": "code",
   "execution_count": 58,
   "id": "8b71f5de",
   "metadata": {},
   "outputs": [
    {
     "data": {
      "text/plain": [
       "120"
      ]
     },
     "execution_count": 58,
     "metadata": {},
     "output_type": "execute_result"
    }
   ],
   "source": [
    "# Q10 write a program to Multiply all numbers in the list\n",
    "# Method 1\n",
    "def pro(data):\n",
    "    x = 1\n",
    "    for i in data:\n",
    "        x = x * i\n",
    "    return x\n",
    "\n",
    "List = [1,2,3,4,5]\n",
    "pro(List)"
   ]
  },
  {
   "cell_type": "code",
   "execution_count": 59,
   "id": "2b49b18d",
   "metadata": {},
   "outputs": [
    {
     "data": {
      "text/plain": [
       "120"
      ]
     },
     "execution_count": 59,
     "metadata": {},
     "output_type": "execute_result"
    }
   ],
   "source": [
    "# Q10 write a program to Multiply all numbers in the list\n",
    "# Method 2\n",
    "\n",
    "import math\n",
    "\n",
    "def pro(data):\n",
    "    product = math.prod(data)\n",
    "    return product\n",
    "\n",
    "List = [1,2,3,4,5]\n",
    "pro(List)"
   ]
  },
  {
   "cell_type": "code",
   "execution_count": null,
   "id": "4da2172e",
   "metadata": {},
   "outputs": [],
   "source": []
  }
 ],
 "metadata": {
  "kernelspec": {
   "display_name": "Python 3",
   "language": "python",
   "name": "python3"
  },
  "language_info": {
   "codemirror_mode": {
    "name": "ipython",
    "version": 3
   },
   "file_extension": ".py",
   "mimetype": "text/x-python",
   "name": "python",
   "nbconvert_exporter": "python",
   "pygments_lexer": "ipython3",
   "version": "3.8.8"
  }
 },
 "nbformat": 4,
 "nbformat_minor": 5
}
